{
 "cells": [
  {
   "cell_type": "markdown",
   "metadata": {},
   "source": [
    "# 1."
   ]
  },
  {
   "cell_type": "markdown",
   "metadata": {},
   "source": []
  },
  {
   "cell_type": "code",
   "execution_count": 50,
   "metadata": {},
   "outputs": [],
   "source": [
    "def solution(S):\n",
    "    # a 혹은 b만 있는 경우\n",
    "    if len(set(S)) == 1:\n",
    "        print(1)\n",
    "        return True\n",
    "\n",
    "    # a로 시작, 다른 지점 only 1개\n",
    "    if len(set(S)) == 2 and S[0] == 'a':\n",
    "        change_spot = 0\n",
    "        for i in range(len(S)-1):\n",
    "            \n",
    "            \n",
    "            #print(i)\n",
    "            #print(S)\n",
    "            if S[i] != S[i+1]:\n",
    "                change_spot += 1\n",
    "            #print(\"change_spot:\",change_spot)\n",
    "        if change_spot == 1:\n",
    "            print(2)\n",
    "            return True\n",
    "        \n",
    "        else: \n",
    "            print(3)\n",
    "            return False\n",
    "    else:\n",
    "        print(4)\n",
    "        return False"
   ]
  },
  {
   "cell_type": "code",
   "execution_count": 55,
   "metadata": {},
   "outputs": [],
   "source": [
    "def solution(S):\n",
    "    # a 혹은 b만 있는 경우\n",
    "    if len(set(S)) == 1:\n",
    "        return True\n",
    "\n",
    "    # a로 시작, 다른 지점 only 1개\n",
    "    if len(set(S)) == 2 and S[0] == 'a':\n",
    "        change_spot = 0\n",
    "        \n",
    "        for i in range(len(S)-1):\n",
    "            if S[i] != S[i+1]:\n",
    "                change_spot += 1\n",
    "                \n",
    "        if change_spot == 1:\n",
    "            return True\n",
    "        \n",
    "        else: \n",
    "            return False\n",
    "    else:\n",
    "        return False"
   ]
  },
  {
   "cell_type": "code",
   "execution_count": 56,
   "metadata": {},
   "outputs": [
    {
     "data": {
      "text/plain": [
       "1"
      ]
     },
     "execution_count": 56,
     "metadata": {},
     "output_type": "execute_result"
    }
   ],
   "source": [
    "S='aa'\n",
    "set(S)\n",
    "len(set(S))"
   ]
  },
  {
   "cell_type": "code",
   "execution_count": 57,
   "metadata": {},
   "outputs": [
    {
     "data": {
      "text/plain": [
       "True"
      ]
     },
     "execution_count": 57,
     "metadata": {},
     "output_type": "execute_result"
    }
   ],
   "source": [
    "solution('aabbb')"
   ]
  },
  {
   "cell_type": "code",
   "execution_count": 58,
   "metadata": {},
   "outputs": [
    {
     "data": {
      "text/plain": [
       "False"
      ]
     },
     "execution_count": 58,
     "metadata": {},
     "output_type": "execute_result"
    }
   ],
   "source": [
    "solution('aabbba')"
   ]
  },
  {
   "cell_type": "code",
   "execution_count": 59,
   "metadata": {},
   "outputs": [
    {
     "data": {
      "text/plain": [
       "False"
      ]
     },
     "execution_count": 59,
     "metadata": {},
     "output_type": "execute_result"
    }
   ],
   "source": [
    "solution('ba')"
   ]
  },
  {
   "cell_type": "code",
   "execution_count": 64,
   "metadata": {},
   "outputs": [
    {
     "data": {
      "text/plain": [
       "True"
      ]
     },
     "execution_count": 64,
     "metadata": {},
     "output_type": "execute_result"
    }
   ],
   "source": [
    "solution('bbbb')"
   ]
  },
  {
   "cell_type": "code",
   "execution_count": 63,
   "metadata": {},
   "outputs": [
    {
     "data": {
      "text/plain": [
       "True"
      ]
     },
     "execution_count": 63,
     "metadata": {},
     "output_type": "execute_result"
    }
   ],
   "source": [
    "solution('aaaa')"
   ]
  },
  {
   "cell_type": "markdown",
   "metadata": {},
   "source": [
    "# 2."
   ]
  },
  {
   "cell_type": "markdown",
   "metadata": {},
   "source": []
  },
  {
   "cell_type": "code",
   "execution_count": 67,
   "metadata": {},
   "outputs": [
    {
     "name": "stdout",
     "output_type": "stream",
     "text": [
      "X\n",
      "X\n"
     ]
    }
   ],
   "source": [
    "S = \"NAABXXAN\"\n",
    "S= sorted(S)\n",
    "\n",
    "for i in range(len(S)):\n",
    "    if S[i] not in ['A','B','N']:\n",
    "        print(S[i])"
   ]
  },
  {
   "cell_type": "code",
   "execution_count": 109,
   "metadata": {},
   "outputs": [],
   "source": [
    "def solution(S):\n",
    "    S= sorted(S)\n",
    "    counter = [0]*3\n",
    "    \n",
    "    for i in range(len(S)):\n",
    "        if S[i] == 'A':\n",
    "            counter[0] += 1\n",
    "            \n",
    "        if S[i] == 'B':\n",
    "            counter[1] += 1\n",
    "            \n",
    "        if S[i] == 'N':\n",
    "            counter[2] += 1\n",
    "\n",
    "    print(counter)\n",
    "    print(S)\n",
    "       \n",
    "    result = min(counter[0]//3,counter[1]//1,counter[2]//2)\n",
    "    return result\n"
   ]
  },
  {
   "cell_type": "code",
   "execution_count": 117,
   "metadata": {},
   "outputs": [],
   "source": [
    "def solution(S):\n",
    "    S= sorted(S)\n",
    "    \n",
    "    # 각 알파벳 개수 count\n",
    "    counter = [0]*3\n",
    "    \n",
    "    for i in range(len(S)):\n",
    "        if S[i] == 'A':\n",
    "            counter[0] += 1\n",
    "            \n",
    "        if S[i] == 'B':\n",
    "            counter[1] += 1\n",
    "            \n",
    "        if S[i] == 'N':\n",
    "            counter[2] += 1\n",
    "            \n",
    "\n",
    "    return min(counter[0]//3, counter[1]//1, counter[2]//2)\n"
   ]
  },
  {
   "cell_type": "code",
   "execution_count": 118,
   "metadata": {},
   "outputs": [
    {
     "data": {
      "text/plain": [
       "1"
      ]
     },
     "execution_count": 118,
     "metadata": {},
     "output_type": "execute_result"
    }
   ],
   "source": [
    "S = \"NAABXXAN\"\n",
    "solution(S)"
   ]
  },
  {
   "cell_type": "code",
   "execution_count": 119,
   "metadata": {},
   "outputs": [
    {
     "data": {
      "text/plain": [
       "2"
      ]
     },
     "execution_count": 119,
     "metadata": {},
     "output_type": "execute_result"
    }
   ],
   "source": [
    "S = 'NAANAAXNABABYNNBZ'\n",
    "solution(S)"
   ]
  },
  {
   "cell_type": "code",
   "execution_count": 120,
   "metadata": {},
   "outputs": [
    {
     "data": {
      "text/plain": [
       "0"
      ]
     },
     "execution_count": 120,
     "metadata": {},
     "output_type": "execute_result"
    }
   ],
   "source": [
    "S = 'QABAAAWOBL'\n",
    "solution(S)"
   ]
  },
  {
   "cell_type": "markdown",
   "metadata": {},
   "source": [
    "# 3."
   ]
  },
  {
   "cell_type": "markdown",
   "metadata": {},
   "source": []
  },
  {
   "cell_type": "code",
   "execution_count": null,
   "metadata": {},
   "outputs": [],
   "source": [
    "def solution(A):\n",
    "\n"
   ]
  },
  {
   "cell_type": "code",
   "execution_count": null,
   "metadata": {},
   "outputs": [],
   "source": []
  }
 ],
 "metadata": {
  "kernelspec": {
   "display_name": "Python 3",
   "language": "python",
   "name": "python3"
  },
  "language_info": {
   "codemirror_mode": {
    "name": "ipython",
    "version": 3
   },
   "file_extension": ".py",
   "mimetype": "text/x-python",
   "name": "python",
   "nbconvert_exporter": "python",
   "pygments_lexer": "ipython3",
   "version": "3.8.3"
  }
 },
 "nbformat": 4,
 "nbformat_minor": 4
}
