{
 "cells": [
  {
   "cell_type": "markdown",
   "metadata": {},
   "source": [
    "## 1. Binary Gap"
   ]
  },
  {
   "cell_type": "code",
   "execution_count": 105,
   "metadata": {},
   "outputs": [
    {
     "name": "stdout",
     "output_type": "stream",
     "text": [
      "binary: 100000\n",
      "type(binary): <class 'str'>\n",
      "6\n",
      "\n",
      "********1 만남*******\n",
      "현재 i: 0\n",
      "현재 gap : [0, 0, 0, 0, 0, 0, 0]\n",
      "\n",
      "***처리중인 binary: 1 ***\n",
      "(i,j): ( 0 , 1 ),  i+j: 1\n",
      "\n",
      "0을 만남. gap + 1\n",
      "gap: [1, 0, 0, 0, 0, 0, 0]\n",
      "다음 j로 넘어갑니다.\n",
      "\n",
      "***처리중인 binary: 10 ***\n",
      "(i,j): ( 0 , 2 ),  i+j: 2\n",
      "\n",
      "0을 만남. gap + 1\n",
      "gap: [2, 0, 0, 0, 0, 0, 0]\n",
      "다음 j로 넘어갑니다.\n",
      "\n",
      "***처리중인 binary: 100 ***\n",
      "(i,j): ( 0 , 3 ),  i+j: 3\n",
      "\n",
      "0을 만남. gap + 1\n",
      "gap: [3, 0, 0, 0, 0, 0, 0]\n",
      "다음 j로 넘어갑니다.\n",
      "\n",
      "***처리중인 binary: 1000 ***\n",
      "(i,j): ( 0 , 4 ),  i+j: 4\n",
      "\n",
      "0을 만남. gap + 1\n",
      "gap: [4, 0, 0, 0, 0, 0, 0]\n",
      "다음 j로 넘어갑니다.\n",
      "\n",
      "***처리중인 binary: 10000 ***\n",
      "(i,j): ( 0 , 5 ),  i+j: 5\n",
      "\n",
      "마지막 값을 확인했습니다. 종료합니다.\n"
     ]
    },
    {
     "data": {
      "text/plain": [
       "4"
      ]
     },
     "execution_count": 105,
     "metadata": {},
     "output_type": "execute_result"
    }
   ],
   "source": [
    "# you can write to stdout for debugging purposes, e.g.\n",
    "# print(\"this is a debug message\")\n",
    "\n",
    "def solution(N):\n",
    "    \n",
    "    # Change Input Decimal to Binary\n",
    "    # Ragne error 해결 위해 뒤에 공백 하나 추가\n",
    "    binary = bin(N)[2:]\n",
    "    print(\"binary:\",binary)\n",
    "    print(\"type(binary):\",type(binary))\n",
    "    print(len(binary))\n",
    "    print()\n",
    "    \n",
    "    # Gap 생성 및 초기화\n",
    "    gap = [0 for i in range(len(binary))]\n",
    "\n",
    "    # 1 만나면 Gap 리스트에 0 추가 (초기값 0)\n",
    "    for i in range(len(binary)):\n",
    "        if binary[i] == \"1\":\n",
    "            print(\"********1 만남*******\")\n",
    "            print(\"현재 i:\",i)\n",
    "            \n",
    "            gap.append(0)\n",
    "            print(\"현재 gap :\",gap)\n",
    "            print()\n",
    "\n",
    "            # 이어서 1 만나면 다음 index 체크\n",
    "            # 이어서 0 만나면 해당 index의 gap 깂에 +1\n",
    "            j = i+1\n",
    "            while (i+j <= len(binary)-1) and (i<j):\n",
    "                print(\"***처리중인 binary:\",binary[:(i+j)],\"***\")\n",
    "                print(\"(i,j):\",\"(\",i,\",\",j,\"), \", \"i+j:\",i+j)\n",
    "                print()\n",
    "\n",
    "                if binary[j] == \"1\":\n",
    "                    print(\"1이 연속됨. Gap이 없습니다. 다음 i로 넘어갑니다.\")\n",
    "                    print()\n",
    "                    j += 1\n",
    "                    break\n",
    "                    \n",
    "                elif binary[j] == \"0\":\n",
    "                    \n",
    "                    # 맨 마지막 값이 0이면 gap에 +1 하지 않음\n",
    "                    if j == (len(binary)-1):\n",
    "                        print(\"마지막 값을 확인했습니다. 종료합니다.\")\n",
    "                        \n",
    "                    else:\n",
    "                        print(\"0을 만남. gap + 1\")\n",
    "                        gap[i] += 1\n",
    "                        print(\"gap:\",gap)\n",
    "                        print(\"다음 j로 넘어갑니다.\")\n",
    "                        print()\n",
    "                    \n",
    "                    \n",
    "                    j += 1\n",
    "                    continue  \n",
    "                    \n",
    "    # Gap 리스트에서 최댓값 출력\n",
    "    return max(gap)\n",
    "    \n",
    "solution(32)"
   ]
  },
  {
   "cell_type": "markdown",
   "metadata": {},
   "source": [
    "### 제출 답안"
   ]
  },
  {
   "cell_type": "code",
   "execution_count": 165,
   "metadata": {},
   "outputs": [
    {
     "data": {
      "text/plain": [
       "4"
      ]
     },
     "execution_count": 165,
     "metadata": {},
     "output_type": "execute_result"
    }
   ],
   "source": [
    "def solution(N):\n",
    "    binary_num = bin(N).lstrip('0b')\n",
    "    count = 0\n",
    "    max_count = 0\n",
    "    for i in binary_num:\n",
    "        #print(\"현재 i:\",i)\n",
    "        \n",
    "        if i == '1':\n",
    "            if max_count < count:\n",
    "                max_count = count\n",
    "                #print(\"count:\",count)\n",
    "                #print(\"max_count:\",max_count)\n",
    "            count =0\n",
    "        # 0이면    \n",
    "        else :\n",
    "            count +=1\n",
    "    #print(binary_num)\n",
    "    return max_count\n",
    "\n",
    "solution(1070)"
   ]
  },
  {
   "cell_type": "markdown",
   "metadata": {},
   "source": [
    "## 2-1. CyclicRotation"
   ]
  },
  {
   "cell_type": "code",
   "execution_count": 254,
   "metadata": {
    "scrolled": true
   },
   "outputs": [
    {
     "data": {
      "text/plain": [
       "[]"
      ]
     },
     "execution_count": 254,
     "metadata": {},
     "output_type": "execute_result"
    }
   ],
   "source": [
    "# you can write to stdout for debugging purposes, e.g.\n",
    "# print(\"this is a debug message\")\n",
    "\n",
    "def solution(A, K):\n",
    "    #print(\"입력받은 리스트:\",A)\n",
    "    #print()\n",
    "    \n",
    "    #결과값 0으로 초기화\n",
    "    result = [0 for i in range(len(A))]\n",
    "    \n",
    "    if len(A) == 0:\n",
    "        return A\n",
    "    \n",
    "    else:\n",
    "        # Rotation K번 반복\n",
    "        for j in range(K):\n",
    "            #print(\"총 {}번 중, {}번째 반복\".format(K,j+1))\n",
    "\n",
    "            # 마지막 인덱스는 [0]으로 지정    \n",
    "            result[0] = A[len(A)-1]\n",
    "\n",
    "            # 마지막 값 제외하고 인덱스 한칸씩 뒤로 밀기\n",
    "            for i in range(len(A)-1):\n",
    "                result[i+1] = A[i]\n",
    "\n",
    "\n",
    "            # A 업데이트\n",
    "            A = result.copy()\n",
    "\n",
    "            #print(\"result:\",result)\n",
    "            #print()\n",
    "\n",
    "        return result\n",
    "\n",
    "solution(A,K)"
   ]
  },
  {
   "cell_type": "code",
   "execution_count": 245,
   "metadata": {},
   "outputs": [
    {
     "data": {
      "text/plain": [
       "[3, 8, 9, 7, 6]"
      ]
     },
     "execution_count": 245,
     "metadata": {},
     "output_type": "execute_result"
    }
   ],
   "source": [
    "A = [3, 8, 9, 7, 6]\n",
    "K = 5\n",
    "\n",
    "solution(A,K)"
   ]
  },
  {
   "cell_type": "code",
   "execution_count": 258,
   "metadata": {},
   "outputs": [
    {
     "data": {
      "text/plain": [
       "[0]"
      ]
     },
     "execution_count": 258,
     "metadata": {},
     "output_type": "execute_result"
    }
   ],
   "source": [
    "A = [-4]\n",
    "K = 0\n",
    "\n",
    "solution(A,K)"
   ]
  },
  {
   "cell_type": "code",
   "execution_count": 259,
   "metadata": {},
   "outputs": [
    {
     "data": {
      "text/plain": [
       "[-4]"
      ]
     },
     "execution_count": 259,
     "metadata": {},
     "output_type": "execute_result"
    }
   ],
   "source": [
    "# 짧은 버전 \n",
    "\n",
    "def solution(A, K):\n",
    "    result = [0 for i in range(len(A))]\n",
    "\n",
    "    if len(A) == 0 or K == 0:\n",
    "        return A\n",
    "    else:\n",
    "        for j in range(K):\n",
    "            result[0] = A[-1]\n",
    "\n",
    "            for i in range(len(A)-1):\n",
    "                result[i+1] = A[i]\n",
    "\n",
    "            A = result.copy()\n",
    "\n",
    "        return result\n",
    "\n",
    "solution(A,K)"
   ]
  },
  {
   "cell_type": "markdown",
   "metadata": {},
   "source": [
    "## 2-2. OddOccurrencesInArray"
   ]
  },
  {
   "cell_type": "code",
   "execution_count": 296,
   "metadata": {},
   "outputs": [
    {
     "data": {
      "text/plain": [
       "9"
      ]
     },
     "execution_count": 296,
     "metadata": {},
     "output_type": "execute_result"
    }
   ],
   "source": [
    "A=[9, 3, 9, 3, 9, 7, 9,7,9]\n",
    "\n",
    "\n",
    "def solution(A):\n",
    "    A_sum = 0\n",
    "    \n",
    "    for i in list(set(A)):\n",
    "        \n",
    "        if A.count(i)%2 == 0:\n",
    "            A_sum += i * A.count(i)\n",
    "\n",
    "        else:\n",
    "            A_sum += i * (A.count(i)-1)\n",
    "            \n",
    "    return sum(A)- A_sum\n",
    "        \n",
    "solution(A)\n",
    "\n",
    "\n",
    "# Timeout error"
   ]
  },
  {
   "cell_type": "code",
   "execution_count": 326,
   "metadata": {},
   "outputs": [
    {
     "data": {
      "text/plain": [
       "9"
      ]
     },
     "execution_count": 326,
     "metadata": {},
     "output_type": "execute_result"
    }
   ],
   "source": [
    "def solution(A):\n",
    "    \n",
    "    if len(A) == 1:\n",
    "        return A[0]    \n",
    "\n",
    "    A= sorted(A)\n",
    "    #print(A)\n",
    "    for i in range(0,len(A),2):\n",
    "        #print(i)\n",
    "        if i+1 == len(A):\n",
    "            return A[i]\n",
    "                \n",
    "        if A[i] != A [i+1]:\n",
    "            return A[i]\n",
    "\n",
    "solution(A)"
   ]
  },
  {
   "cell_type": "markdown",
   "metadata": {},
   "source": [
    "## 3-1. Frog Jump"
   ]
  },
  {
   "cell_type": "code",
   "execution_count": 359,
   "metadata": {},
   "outputs": [],
   "source": [
    "def solution(X, Y, D):\n",
    "    diff = Y-X\n",
    "    Q = diff//D\n",
    "    R = diff%D\n",
    "    if R ==0:\n",
    "        return Q\n",
    "    else:\n",
    "        return Q +1"
   ]
  },
  {
   "cell_type": "code",
   "execution_count": 360,
   "metadata": {},
   "outputs": [
    {
     "data": {
      "text/plain": [
       "2"
      ]
     },
     "execution_count": 360,
     "metadata": {},
     "output_type": "execute_result"
    }
   ],
   "source": [
    "X = 30\n",
    "Y = 85\n",
    "D = 30\n",
    "\n",
    "solution(X,Y,D)"
   ]
  },
  {
   "cell_type": "markdown",
   "metadata": {},
   "source": [
    "## 3-2. PermMissingElem"
   ]
  },
  {
   "cell_type": "code",
   "execution_count": 371,
   "metadata": {},
   "outputs": [],
   "source": [
    "def solution(A):\n",
    "    A_sum = sum(A)\n",
    "    total_sum = sum(range(1,len(A)+2))\n",
    "    \n",
    "    return total_sum - A_sum"
   ]
  },
  {
   "cell_type": "code",
   "execution_count": 374,
   "metadata": {},
   "outputs": [
    {
     "data": {
      "text/plain": [
       "4"
      ]
     },
     "execution_count": 374,
     "metadata": {},
     "output_type": "execute_result"
    }
   ],
   "source": [
    "A = [2,1,3,5,7,8,9,6]\n",
    "solution(A)"
   ]
  },
  {
   "cell_type": "markdown",
   "metadata": {},
   "source": [
    "## 3-3. TapeEquilibrium"
   ]
  },
  {
   "cell_type": "code",
   "execution_count": 51,
   "metadata": {},
   "outputs": [],
   "source": [
    "def solution(A):\n",
    "    min_diff = None\n",
    "    \n",
    "    for i in range(len(A)-1):\n",
    "        front = sum(A[:i+1])\n",
    "        back = sum(A[i+1:])\n",
    "        diff = abs(front - back)\n",
    "        \n",
    "        if min_diff ==None or min_diff > diff:\n",
    "            min_diff = diff\n",
    "            \n",
    "    return min_diff\n",
    "\n",
    "# Timeout Error"
   ]
  },
  {
   "cell_type": "code",
   "execution_count": 57,
   "metadata": {},
   "outputs": [],
   "source": [
    "def solution(A):\n",
    "    min_diff = None\n",
    "    front = 0\n",
    "    back = sum(A)\n",
    "    \n",
    "    for i in range(1,len(A)):\n",
    "        front += A[i-1]\n",
    "        back -= A[i-1]\n",
    "        diff = abs(front - back)\n",
    "        \n",
    "        if min_diff ==None or min_diff > diff:\n",
    "            min_diff = diff\n",
    "            \n",
    "    return min_diff        "
   ]
  },
  {
   "cell_type": "code",
   "execution_count": 58,
   "metadata": {},
   "outputs": [
    {
     "data": {
      "text/plain": [
       "1"
      ]
     },
     "execution_count": 58,
     "metadata": {},
     "output_type": "execute_result"
    }
   ],
   "source": [
    "A = [3,1,2,4,3]\n",
    "solution(A)\n"
   ]
  },
  {
   "cell_type": "markdown",
   "metadata": {},
   "source": [
    "# `for idx, i in enumerate(A):`\n",
    "# `Count`로 시간복잡도 줄이기"
   ]
  },
  {
   "cell_type": "markdown",
   "metadata": {},
   "source": [
    "## 4-1. Frog River One"
   ]
  },
  {
   "cell_type": "code",
   "execution_count": 80,
   "metadata": {},
   "outputs": [
    {
     "name": "stdout",
     "output_type": "stream",
     "text": [
      "10\n",
      "15.0\n",
      "False\n"
     ]
    }
   ],
   "source": [
    "A = [1,3,1,4,2,3,4]\n",
    "X= 5\n",
    "\n",
    "A_sum = sum(set(A))\n",
    "total_sum = X * (X+1) /2\n",
    "\n",
    "print(A_sum)\n",
    "print(total_sum)\n",
    "print(A_sum == total_sum)"
   ]
  },
  {
   "cell_type": "code",
   "execution_count": 76,
   "metadata": {},
   "outputs": [],
   "source": [
    "def solution(X,A):\n",
    "    # 수열 활용하여 맞춰야하는 전체 합 정의\n",
    "    total_sum = X * (X+1) / 2\n",
    "    check = []\n",
    "    \n",
    "    for i in range(len(A)):\n",
    "        if A[i] not in check:\n",
    "            check.append(A[i])\n",
    "            \n",
    "        if A[i] in check:\n",
    "            continue\n",
    "    #print(check)\n",
    "    \n",
    "    A_sum = sum(check)\n",
    "    \n",
    "    if A_sum == total_sum:\n",
    "        return A.index(check[-1])\n",
    "    \n",
    "    if A_sum != total_sum:\n",
    "        return -1\n",
    "    \n",
    "# Runtime error"
   ]
  },
  {
   "cell_type": "code",
   "execution_count": 81,
   "metadata": {},
   "outputs": [],
   "source": [
    "def solution(X,A):\n",
    "    check = [0] * X\n",
    "    sum = 0\n",
    "    \n",
    "    for idx, i in enumerate(A):\n",
    "        if check[i-1] == 0:\n",
    "            check[i-1] = 1\n",
    "            sum += 1\n",
    "            \n",
    "            if sum == X:\n",
    "                return idx\n",
    "    return -1"
   ]
  },
  {
   "cell_type": "code",
   "execution_count": 82,
   "metadata": {},
   "outputs": [
    {
     "data": {
      "text/plain": [
       "-1"
      ]
     },
     "execution_count": 82,
     "metadata": {},
     "output_type": "execute_result"
    }
   ],
   "source": [
    "solution(X,A)"
   ]
  },
  {
   "cell_type": "markdown",
   "metadata": {},
   "source": [
    "## 4-2. Permutation Check"
   ]
  },
  {
   "cell_type": "code",
   "execution_count": 105,
   "metadata": {},
   "outputs": [],
   "source": [
    "def solution(A):\n",
    "    X = len(A)\n",
    "    check = [0] * X\n",
    "    count = 0\n",
    "    \n",
    "    if max(A) > X or sum(A) <= 0:\n",
    "        return 0\n",
    "    \n",
    "    else:\n",
    "        for i in A:\n",
    "            if check[i-1] == 0:\n",
    "                check[i-1] = 1\n",
    "                count += 1\n",
    "\n",
    "                if count == X:\n",
    "                    return 1\n",
    "        return 0\n"
   ]
  },
  {
   "cell_type": "code",
   "execution_count": 106,
   "metadata": {},
   "outputs": [
    {
     "data": {
      "text/plain": [
       "1"
      ]
     },
     "execution_count": 106,
     "metadata": {},
     "output_type": "execute_result"
    }
   ],
   "source": [
    "A = [4,1,3,2]\n",
    "solution(A)"
   ]
  },
  {
   "cell_type": "code",
   "execution_count": 107,
   "metadata": {},
   "outputs": [
    {
     "data": {
      "text/plain": [
       "0"
      ]
     },
     "execution_count": 107,
     "metadata": {},
     "output_type": "execute_result"
    }
   ],
   "source": [
    "A = [4,3,2]\n",
    "solution(A)"
   ]
  },
  {
   "cell_type": "markdown",
   "metadata": {},
   "source": [
    "##  4-3. Max Counters"
   ]
  },
  {
   "cell_type": "code",
   "execution_count": 157,
   "metadata": {},
   "outputs": [],
   "source": [
    "def solution(N, A):\n",
    "    counter = [0] * N\n",
    "    \n",
    "    for i in A:\n",
    "        if i <= N:\n",
    "            counter[i-1] += 1\n",
    "        elif i == N+1:\n",
    "            counter = [max(counter)] * N\n",
    "            \n",
    "    return counter\n",
    "\n",
    "# Timeout Error"
   ]
  },
  {
   "cell_type": "code",
   "execution_count": 167,
   "metadata": {},
   "outputs": [],
   "source": [
    "def solution(N, A):\n",
    "    counter = [0] * N\n",
    "    max_count = 0\n",
    "    \n",
    "    for i in A:\n",
    "        if i <= N:\n",
    "            counter[i-1] += 1\n",
    "            \n",
    "            if  counter[i-1] > max_count:\n",
    "                max_count = counter[i-1]\n",
    "            \n",
    "        elif i == N+1:\n",
    "            counter = [max_count] * N\n",
    "            \n",
    "    return counter\n",
    "\n",
    "# Timeour error on the Extreme case (O(N + M)), but better than the prior"
   ]
  },
  {
   "cell_type": "code",
   "execution_count": 166,
   "metadata": {},
   "outputs": [
    {
     "data": {
      "text/plain": [
       "[3, 2, 2, 4, 2]"
      ]
     },
     "execution_count": 166,
     "metadata": {},
     "output_type": "execute_result"
    }
   ],
   "source": [
    "A = [3,4,4,6,1,4,4]\n",
    "N = 5\n",
    "\n",
    "# if A[K] = X, such that 1 ≤ X ≤ N, then operation K is increase(X),\n",
    "# if A[K] = N + 1 then operation K is max counter.\n",
    "\n",
    "solution(N,A)"
   ]
  },
  {
   "cell_type": "markdown",
   "metadata": {},
   "source": [
    "## 4-4. Missing Integer"
   ]
  },
  {
   "cell_type": "code",
   "execution_count": 278,
   "metadata": {},
   "outputs": [],
   "source": [
    "def solution(A):\n",
    "    result = 1\n",
    "            \n",
    "    if sorted(A)[0] != 1:\n",
    "        #print(\"result0:\",result)\n",
    "        return result\n",
    "    \n",
    "    for i in sorted(A):\n",
    "        #print(\"i:\",i)\n",
    "   \n",
    "        if i == result:\n",
    "            continue\n",
    "            \n",
    "        if i == result + 1 :\n",
    "            result += 1\n",
    "            #print(\"result1:\",result)\n",
    "\n",
    "        if i > result + 1:\n",
    "            #print(\"result2:\",result)\n",
    "            return result +1\n",
    "    #print(\"result3:\",result)\n",
    "    return result +1"
   ]
  },
  {
   "cell_type": "code",
   "execution_count": 347,
   "metadata": {},
   "outputs": [],
   "source": [
    "def solution(A):\n",
    "    A.sort()\n",
    "    A= list(set(A))\n",
    "    result = 1\n",
    "    for i in A:\n",
    "        if  i == result:\n",
    "            result += 1\n",
    "    \n",
    "    return result\n"
   ]
  },
  {
   "cell_type": "code",
   "execution_count": 348,
   "metadata": {},
   "outputs": [
    {
     "data": {
      "text/plain": [
       "5"
      ]
     },
     "execution_count": 348,
     "metadata": {},
     "output_type": "execute_result"
    }
   ],
   "source": [
    "A = [1, 3, 6, 4, 1, 2]\n",
    "solution(A)"
   ]
  },
  {
   "cell_type": "code",
   "execution_count": 337,
   "metadata": {},
   "outputs": [
    {
     "name": "stdout",
     "output_type": "stream",
     "text": [
      "[1, 3, 6, 4, 1, 2]\n"
     ]
    }
   ],
   "source": [
    "A = [1, 3, 6, 4, 1, 2]\n",
    "sorted(A)\n",
    "print(A)"
   ]
  },
  {
   "cell_type": "markdown",
   "metadata": {},
   "source": [
    "## 5-1. Passing Cars"
   ]
  },
  {
   "cell_type": "code",
   "execution_count": 361,
   "metadata": {},
   "outputs": [],
   "source": [
    "def solution(A):\n",
    "    pairs = 0\n",
    "    \n",
    "    if pairs > 1000000000:\n",
    "        return -1\n",
    "    \n",
    "    else:\n",
    "        for idx, i in enumerate(A):\n",
    "            if i == 0:\n",
    "                pairs += sum(A[idx:])\n",
    "        return pairs"
   ]
  },
  {
   "cell_type": "code",
   "execution_count": null,
   "metadata": {},
   "outputs": [],
   "source": [
    "def solution(A):\n",
    "    \n",
    "    cumulated, summ = [0], 0\n",
    "    for n in A:\n",
    "        summ += n\n",
    "        cumulated.append(summ)\n",
    "\n",
    "    passing_cars = 0\n",
    "    for i, n in enumerate(A):\n",
    "        if not n:\n",
    "            passing_cars += summ - cumulated[i + 1]\n",
    "            if passing_cars > 1e9:\n",
    "                return -1\n",
    "    return passing_cars"
   ]
  },
  {
   "cell_type": "code",
   "execution_count": 373,
   "metadata": {},
   "outputs": [],
   "source": [
    "def solution(A):\n",
    "    pairs =0\n",
    "    \n",
    "    if pairs > 1000000000:\n",
    "        return -1\n",
    "    \n",
    "    else:    \n",
    "    \n",
    "        for i in range(len(A)):\n",
    "            if A[i] == 0:\n",
    "                pairs += sum(A[i:])\n",
    "        return pairs"
   ]
  },
  {
   "cell_type": "code",
   "execution_count": 374,
   "metadata": {},
   "outputs": [
    {
     "data": {
      "text/plain": [
       "5"
      ]
     },
     "execution_count": 374,
     "metadata": {},
     "output_type": "execute_result"
    }
   ],
   "source": [
    "A = [0,1,0,1,1]\n",
    "solution(A)"
   ]
  },
  {
   "cell_type": "code",
   "execution_count": 375,
   "metadata": {},
   "outputs": [
    {
     "data": {
      "text/plain": [
       "29"
      ]
     },
     "execution_count": 375,
     "metadata": {},
     "output_type": "execute_result"
    }
   ],
   "source": [
    "A = [0,1,0,1,1,1,1,0,0,1,1,1,1,1]\n",
    "solution(A)"
   ]
  },
  {
   "cell_type": "markdown",
   "metadata": {},
   "source": [
    "## 5-2. CountDiv"
   ]
  },
  {
   "cell_type": "code",
   "execution_count": 391,
   "metadata": {},
   "outputs": [],
   "source": [
    "def solution(A, B, K):\n",
    "    \n",
    "    A_count = 0\n",
    "    B_count = 0\n",
    "    \n",
    "    # A 보다 작은 수 중 K를 인수로 갖는 수의 개수\n",
    "    for i in range(A):\n",
    "        #print(\"A의 i:\",i+1)\n",
    "        if (i+1)%K == 0:\n",
    "            A_count += 1\n",
    "\n",
    "    # B 보다 작은 수 중 K를 인수로 갖는 수의 개수       \n",
    "    for i in range(B):\n",
    "        #print(\"B의 i:\",i+1)\n",
    "        if (i+1)%K == 0:\n",
    "            B_count += 1\n",
    "            \n",
    "    total_count = B_count - A_count\n",
    "    \n",
    "    if A%K == 0:\n",
    "        return total_count +1\n",
    "    else:\n",
    "        return total_count\n",
    "\n",
    "# Timeout Error"
   ]
  },
  {
   "cell_type": "code",
   "execution_count": 393,
   "metadata": {},
   "outputs": [],
   "source": [
    "def solution(A, B, K):\n",
    "    B_divide = B//K\n",
    "    \n",
    "    if A % K ==0:\n",
    "        A_divide = A//K -1\n",
    "    \n",
    "    else:\n",
    "        A_divide = A//K\n",
    "        \n",
    "    return B_divide - A_divide \n",
    "    "
   ]
  },
  {
   "cell_type": "code",
   "execution_count": 394,
   "metadata": {},
   "outputs": [
    {
     "data": {
      "text/plain": [
       "3"
      ]
     },
     "execution_count": 394,
     "metadata": {},
     "output_type": "execute_result"
    }
   ],
   "source": [
    "A = 6\n",
    "B = 11\n",
    "K = 2\n",
    "solution(A, B, K)"
   ]
  },
  {
   "cell_type": "markdown",
   "metadata": {},
   "source": [
    "## GenomicRangeQuery"
   ]
  },
  {
   "cell_type": "markdown",
   "metadata": {},
   "source": [
    "A, C, G and T "
   ]
  },
  {
   "cell_type": "code",
   "execution_count": 1,
   "metadata": {},
   "outputs": [
    {
     "ename": "NameError",
     "evalue": "name 'solution' is not defined",
     "output_type": "error",
     "traceback": [
      "\u001b[1;31m---------------------------------------------------------------------------\u001b[0m",
      "\u001b[1;31mNameError\u001b[0m                                 Traceback (most recent call last)",
      "Input \u001b[1;32mIn [1]\u001b[0m, in \u001b[0;36m<cell line: 6>\u001b[1;34m()\u001b[0m\n\u001b[0;32m      3\u001b[0m P \u001b[38;5;241m=\u001b[39m [\u001b[38;5;241m2\u001b[39m,\u001b[38;5;241m5\u001b[39m,\u001b[38;5;241m0\u001b[39m]\n\u001b[0;32m      4\u001b[0m Q \u001b[38;5;241m=\u001b[39m [\u001b[38;5;241m4\u001b[39m,\u001b[38;5;241m5\u001b[39m,\u001b[38;5;241m6\u001b[39m]\n\u001b[1;32m----> 6\u001b[0m \u001b[43msolution\u001b[49m(S, P, Q)\n",
      "\u001b[1;31mNameError\u001b[0m: name 'solution' is not defined"
     ]
    }
   ],
   "source": [
    "S = \"CAGCCTA\"\n",
    "\n",
    "P = [2,5,0]\n",
    "Q = [4,5,6]\n",
    "\n",
    "solution(S, P, Q)"
   ]
  },
  {
   "cell_type": "code",
   "execution_count": 14,
   "metadata": {},
   "outputs": [
    {
     "name": "stdout",
     "output_type": "stream",
     "text": [
      "2132241\n"
     ]
    }
   ],
   "source": [
    "S = S.replace(\"A\",\"1\")\n",
    "S = S.replace(\"C\",\"2\")\n",
    "S = S.replace(\"G\",\"3\")\n",
    "S = S.replace(\"T\",\"4\")\n",
    "\n",
    "print(S)"
   ]
  },
  {
   "cell_type": "code",
   "execution_count": 8,
   "metadata": {},
   "outputs": [
    {
     "name": "stdout",
     "output_type": "stream",
     "text": [
      "[(2, 4), (5, 5), (0, 6)]\n",
      "4\n"
     ]
    }
   ],
   "source": [
    "print(list(zip(P,Q)))\n",
    "print(list(zip(P,Q))[0][1])"
   ]
  },
  {
   "cell_type": "code",
   "execution_count": 17,
   "metadata": {},
   "outputs": [
    {
     "name": "stdout",
     "output_type": "stream",
     "text": [
      "2\n",
      "5\n",
      "0\n"
     ]
    }
   ],
   "source": [
    "pairs = list(zip(P,Q))\n",
    "for pair in pairs:\n",
    "    print(pair[0])\n"
   ]
  },
  {
   "cell_type": "code",
   "execution_count": 62,
   "metadata": {},
   "outputs": [],
   "source": [
    "def solution(S, P, Q):\n",
    "    \n",
    "    # S를 Impact factor로 미리 변환\n",
    "    S = S.replace(\"A\",\"1\")\n",
    "    S = S.replace(\"C\",\"2\")\n",
    "    S = S.replace(\"G\",\"3\")\n",
    "    S = S.replace(\"T\",\"4\")\n",
    "    \n",
    "    result = []\n",
    "    \n",
    "    for i in range(len(P)):\n",
    "        seq = S[P[i]:Q[i]+1]\n",
    "        result.append(int(min(seq)))\n",
    "        \n",
    "    return(result)       "
   ]
  },
  {
   "cell_type": "code",
   "execution_count": 101,
   "metadata": {},
   "outputs": [],
   "source": [
    "def solution(S, P, Q):\n",
    "    \n",
    "    result = []\n",
    "    \n",
    "    for i in range(len(P)):\n",
    "        min_num = 5\n",
    "        \n",
    "        #print(S[P[i]:(Q[i]+1)])\n",
    "        \n",
    "        if \"A\" in S[P[i]:(Q[i]+1)]:\n",
    "            num = 1\n",
    "                    \n",
    "        elif \"C\" in S[P[i]:(Q[i]+1)]:\n",
    "            num = 2\n",
    "                    \n",
    "        elif \"G\" in S[P[i]:(Q[i]+1)]:\n",
    "            num = 3\n",
    "\n",
    "        elif \"T\" in S[P[i]:(Q[i]+1)]:\n",
    "            num = 4   \n",
    "        \n",
    "        if num < min_num:\n",
    "            min_num = num\n",
    "            \n",
    "        result.append(min_num)\n",
    "        \n",
    "    return result\n",
    "        "
   ]
  },
  {
   "cell_type": "code",
   "execution_count": 102,
   "metadata": {},
   "outputs": [
    {
     "data": {
      "text/plain": [
       "[2, 4, 1]"
      ]
     },
     "execution_count": 102,
     "metadata": {},
     "output_type": "execute_result"
    }
   ],
   "source": [
    "S = \"CAGCCTA\"\n",
    "\n",
    "P = [2,5,0]\n",
    "Q = [4,5,6]\n",
    "\n",
    "solution(S, P, Q)"
   ]
  },
  {
   "cell_type": "markdown",
   "metadata": {},
   "source": [
    "## 5-3. MinAvgTwoSlice"
   ]
  },
  {
   "cell_type": "code",
   "execution_count": 165,
   "metadata": {},
   "outputs": [],
   "source": [
    "def solution(A):\n",
    "    min_mean = 10000\n",
    "    min_mean_idx = len(A) + 1\n",
    "    \n",
    "    for i in range(len(A)):\n",
    "        for j in range(i+1,len(A)):\n",
    "            seq_mean = sum(A[i:j+1]) / (j-i+1)\n",
    "            #print(i,j)\n",
    "    \n",
    "            if min_mean > seq_mean:\n",
    "                min_mean = seq_mean\n",
    "                \n",
    "                min_mean_idx = i\n",
    "                \n",
    "                #print(\"min_mean:\",min_mean)\n",
    "                #print(\"min_mean_idx:\",min_mean_idx)\n",
    "                #print()\n",
    "\n",
    "    return min_mean_idx\n",
    "\n",
    "    "
   ]
  },
  {
   "cell_type": "code",
   "execution_count": 161,
   "metadata": {},
   "outputs": [],
   "source": [
    "def solution(A):\n",
    "    min_mean = 10000\n",
    "    min_mean_idx = len(A) + 1\n",
    "    \n",
    "    seq_sum = 0\n",
    "    \n",
    "    for i in range(len(A)):\n",
    "        seq_sum = A[i]\n",
    "        for j in range(i+1,len(A)):\n",
    "            seq_sum += A[j]\n",
    "            seq_mean = seq_sum / (j-i+1)\n",
    "            #print(i,j)\n",
    "    \n",
    "            if min_mean > seq_mean:\n",
    "                min_mean = seq_mean\n",
    "                \n",
    "                min_mean_idx = i\n",
    "                \n",
    "                #print(\"min_mean:\",min_mean)\n",
    "                #print(\"min_mean_idx:\",min_mean_idx)\n",
    "                #print()\n",
    "\n",
    "    return min_mean_idx\n",
    "\n",
    "# O(N**2)    "
   ]
  },
  {
   "cell_type": "code",
   "execution_count": 1,
   "metadata": {},
   "outputs": [],
   "source": [
    "def solution(A):\n",
    "    min_mean = (A[0]+A[1])/2\n",
    "    min_mean_idx = 0\n",
    "    for i in range(0, len(A)-1):\n",
    "        avg = (A[i]+A[i+1])/2\n",
    "        if min_mean > avg :\n",
    "            min_mean = avg\n",
    "            min_mean_idx = i\n",
    "\n",
    "    for j in range(0, len(A)-2):\n",
    "        avg = (A[j]+A[j+1]+A[j+2])/3\n",
    "        if min_mean > avg :\n",
    "            min_mean = avg\n",
    "            min_mean_idx = j\n",
    "    return min_mean_idx"
   ]
  },
  {
   "cell_type": "code",
   "execution_count": 2,
   "metadata": {},
   "outputs": [
    {
     "data": {
      "text/plain": [
       "1"
      ]
     },
     "execution_count": 2,
     "metadata": {},
     "output_type": "execute_result"
    }
   ],
   "source": [
    "A = [4,2,2,5,1,5,8]\n",
    "solution(A)"
   ]
  },
  {
   "cell_type": "code",
   "execution_count": 3,
   "metadata": {},
   "outputs": [
    {
     "data": {
      "text/plain": [
       "7"
      ]
     },
     "execution_count": 3,
     "metadata": {},
     "output_type": "execute_result"
    }
   ],
   "source": [
    "A = [4,2,2,5,1,5,8,-155,5]\n",
    "solution(A)"
   ]
  },
  {
   "cell_type": "markdown",
   "metadata": {},
   "source": [
    "## Distinct Value"
   ]
  },
  {
   "cell_type": "code",
   "execution_count": 10,
   "metadata": {},
   "outputs": [
    {
     "data": {
      "text/plain": [
       "3"
      ]
     },
     "execution_count": 10,
     "metadata": {},
     "output_type": "execute_result"
    }
   ],
   "source": [
    "A = [2,1,1,2,3,1]\n",
    "len(set(A))"
   ]
  },
  {
   "cell_type": "code",
   "execution_count": 11,
   "metadata": {},
   "outputs": [],
   "source": [
    "def solution(A):\n",
    "    return len(set(A))"
   ]
  },
  {
   "cell_type": "code",
   "execution_count": 12,
   "metadata": {},
   "outputs": [
    {
     "data": {
      "text/plain": [
       "3"
      ]
     },
     "execution_count": 12,
     "metadata": {},
     "output_type": "execute_result"
    }
   ],
   "source": [
    "solution(A)"
   ]
  },
  {
   "cell_type": "markdown",
   "metadata": {},
   "source": [
    "## Max Product of Three"
   ]
  },
  {
   "cell_type": "code",
   "execution_count": 20,
   "metadata": {},
   "outputs": [],
   "source": [
    "def solution(A):\n",
    "    A.sort()\n",
    "    neg_max_product = A[0]*A[1]*A[-1]\n",
    "    pos_max_product = A[-1]*A[-2]*A[-3]\n",
    "    \n",
    "    if neg_max_product >= pos_max_product:\n",
    "        result = neg_max_product\n",
    "    else:\n",
    "        result = pos_max_product\n",
    "\n",
    "    return result      "
   ]
  },
  {
   "cell_type": "code",
   "execution_count": 21,
   "metadata": {},
   "outputs": [
    {
     "data": {
      "text/plain": [
       "60"
      ]
     },
     "execution_count": 21,
     "metadata": {},
     "output_type": "execute_result"
    }
   ],
   "source": [
    "A = [ -3,1,2,-2,5,6]\n",
    "\n",
    "solution(A)"
   ]
  },
  {
   "cell_type": "markdown",
   "metadata": {},
   "source": [
    " ## Triangle"
   ]
  },
  {
   "cell_type": "code",
   "execution_count": 6,
   "metadata": {},
   "outputs": [],
   "source": [
    "def solution(A):\n",
    "    A.sort()\n",
    "    for i in range(len(A)-2):\n",
    "        if A[i] + A[i+1] > A[i+2]:\n",
    "            if A[i] + A[i+2] > A[i+1]:\n",
    "                if A[i+1] + A[i+2] > A[i]:\n",
    "                    return 1\n",
    "    \n",
    "    return 0"
   ]
  },
  {
   "cell_type": "code",
   "execution_count": 7,
   "metadata": {},
   "outputs": [
    {
     "data": {
      "text/plain": [
       "1"
      ]
     },
     "execution_count": 7,
     "metadata": {},
     "output_type": "execute_result"
    }
   ],
   "source": [
    "A = [10,2,5,1,8,20]\n",
    "solution(A)\n"
   ]
  },
  {
   "cell_type": "code",
   "execution_count": 10,
   "metadata": {},
   "outputs": [
    {
     "data": {
      "text/plain": [
       "0"
      ]
     },
     "execution_count": 10,
     "metadata": {},
     "output_type": "execute_result"
    }
   ],
   "source": [
    "A = [1]\n",
    "solution(A)"
   ]
  },
  {
   "cell_type": "code",
   "execution_count": 4,
   "metadata": {},
   "outputs": [
    {
     "name": "stdout",
     "output_type": "stream",
     "text": [
      "[1, 5, 10, 10, 50]\n"
     ]
    }
   ],
   "source": [
    "A = [10,10,50,5,1]\n",
    "#solution(A)\n",
    "A.sort()\n",
    "print(A)"
   ]
  },
  {
   "cell_type": "markdown",
   "metadata": {},
   "source": [
    "## Number of Intersection"
   ]
  },
  {
   "cell_type": "code",
   "execution_count": 11,
   "metadata": {},
   "outputs": [],
   "source": [
    "A = [1,5,2,1,4,0]"
   ]
  },
  {
   "cell_type": "code",
   "execution_count": 33,
   "metadata": {},
   "outputs": [],
   "source": [
    "def solution(A):\n",
    "    count = 0\n",
    "    \n",
    "    for i in range(len(A)):\n",
    "        r1 = A[i]\n",
    "        c1 = i\n",
    "        \n",
    "        for j in range(i+1,len(A)):\n",
    "            r2 = A[j]\n",
    "            c2 = j\n",
    "            \n",
    "            if r1 + r2 >= abs(c2 - c1):\n",
    "                count += 1\n",
    "                \n",
    "                \n",
    "    return count      \n",
    "\n",
    "# timeout error"
   ]
  },
  {
   "cell_type": "code",
   "execution_count": 34,
   "metadata": {},
   "outputs": [],
   "source": [
    "def solution(A):\n",
    "    disc = []\n",
    "    for idx, i in enumerate(A):\n",
    "        disc.append((idx - i, -1))\n",
    "        disc.append((idx + i, 1))\n",
    "    print(disc)\n",
    "    disc = sorted(disc)\n",
    "    print(disc)\n",
    "    \n",
    "    t = 0\n",
    "    r = 0\n",
    "\n",
    "    for d in disc:\n",
    "        if d[1] == 1:\n",
    "            t -= 1\n",
    "        else :\n",
    "            r += t\n",
    "            t += 1\n",
    "    \n",
    "    return r if r <= 10000000 else -1"
   ]
  },
  {
   "cell_type": "code",
   "execution_count": 35,
   "metadata": {},
   "outputs": [
    {
     "name": "stdout",
     "output_type": "stream",
     "text": [
      "[(-1, -1), (1, 1), (-4, -1), (6, 1), (0, -1), (4, 1), (2, -1), (4, 1), (0, -1), (8, 1), (5, -1), (5, 1)]\n",
      "[(-4, -1), (-1, -1), (0, -1), (0, -1), (1, 1), (2, -1), (4, 1), (4, 1), (5, -1), (5, 1), (6, 1), (8, 1)]\n"
     ]
    },
    {
     "data": {
      "text/plain": [
       "11"
      ]
     },
     "execution_count": 35,
     "metadata": {},
     "output_type": "execute_result"
    }
   ],
   "source": [
    "A = [1,5,2,1,4,0]\n",
    "solution(A)"
   ]
  },
  {
   "cell_type": "code",
   "execution_count": 36,
   "metadata": {},
   "outputs": [
    {
     "name": "stdout",
     "output_type": "stream",
     "text": [
      "[(-1, -1), (1, 1), (-4, -1), (6, 1), (0, -1), (4, 1), (2, -1), (4, 1), (0, -1), (8, 1), (-999995, -1), (1000005, 1)]\n",
      "[(-999995, -1), (-4, -1), (-1, -1), (0, -1), (0, -1), (1, 1), (2, -1), (4, 1), (4, 1), (6, 1), (8, 1), (1000005, 1)]\n"
     ]
    },
    {
     "data": {
      "text/plain": [
       "14"
      ]
     },
     "execution_count": 36,
     "metadata": {},
     "output_type": "execute_result"
    }
   ],
   "source": [
    "A = [1,5,2,1,4,1000000]\n",
    "solution(A)"
   ]
  },
  {
   "cell_type": "markdown",
   "metadata": {},
   "source": [
    "## Brackets"
   ]
  },
  {
   "cell_type": "code",
   "execution_count": 38,
   "metadata": {},
   "outputs": [
    {
     "data": {
      "text/plain": [
       "['{', '[', '(', ')', '(', ')', ']', '}']"
      ]
     },
     "execution_count": 38,
     "metadata": {},
     "output_type": "execute_result"
    }
   ],
   "source": [
    "S = \"{[()()]}\"\n",
    "\n",
    "list(S)"
   ]
  },
  {
   "cell_type": "code",
   "execution_count": 45,
   "metadata": {},
   "outputs": [],
   "source": [
    "def solution(S):\n",
    "\n",
    "    stack = list(S)\n",
    "    for s in S:\n",
    "\n",
    "        if s == \")\" or s ==\"]\" or s ==\"}\":\n",
    "            print(s)\n",
    "            c = stack.pop()\n",
    "            print(c)\n",
    "            \n",
    "            if len(stack) == 0:\n",
    "                return 0\n",
    "            p = stack.pop()\n",
    "            if s == \")\":\n",
    "                if p != \"(\":\n",
    "                    return 0\n",
    "            elif s== \"]\":\n",
    "                if p != \"[\":\n",
    "                    return 0\n",
    "            elif s== \"}\":\n",
    "                if p != \"{\":\n",
    "                    return 0\n",
    "            \n",
    "    return 1 if len(stack) == 0 else 0"
   ]
  },
  {
   "cell_type": "code",
   "execution_count": 3,
   "metadata": {},
   "outputs": [],
   "source": [
    "def solution(S):\n",
    "\n",
    "    stack = []\n",
    "    \n",
    "    for s in S:\n",
    "        stack.append(s)\n",
    "        print(stack)\n",
    "\n",
    "        if s == \")\" or s ==\"]\" or s ==\"}\":\n",
    "            print(\"뒷괄호 만남\")\n",
    "            \n",
    "            back = stack.pop()\n",
    "            \n",
    "            print(\"back:\",back)\n",
    "            print(\"stack:\",stack)\n",
    "            print()\n",
    "            \n",
    "            # stack 비어있는데 뒷괄호 만나면 \n",
    "            if len(stack) == 0:\n",
    "                return 0\n",
    "            \n",
    "            front = stack.pop()\n",
    "            \n",
    "            print(\"front:\",front)\n",
    "            print()\n",
    "            print(\"s:\",s)\n",
    "            print(\"stack:\",stack)\n",
    "\n",
    "            if s == \")\":\n",
    "                if front != \"(\":\n",
    "                    return 0\n",
    "            elif s== \"]\":\n",
    "                if front != \"[\":\n",
    "                    return 0\n",
    "            elif s== \"}\":\n",
    "                if front != \"{\":\n",
    "                    return 0\n",
    "            print(\"한세트 종료\")\n",
    "            print()\n",
    "            \n",
    "    return 1 if len(stack) == 0 else 0"
   ]
  },
  {
   "cell_type": "code",
   "execution_count": 7,
   "metadata": {},
   "outputs": [
    {
     "name": "stdout",
     "output_type": "stream",
     "text": [
      "['{']\n",
      "['{', '[']\n",
      "['{', '[', '(']\n",
      "['{', '[', '(', '{']\n",
      "['{', '[', '(', '{', '}']\n",
      "뒷괄호 만남\n",
      "back: }\n",
      "stack: ['{', '[', '(', '{']\n",
      "\n",
      "front: {\n",
      "\n",
      "s: }\n",
      "stack: ['{', '[', '(']\n",
      "한세트 종료\n",
      "\n",
      "['{', '[', '(', ')']\n",
      "뒷괄호 만남\n",
      "back: )\n",
      "stack: ['{', '[', '(']\n",
      "\n",
      "front: (\n",
      "\n",
      "s: )\n",
      "stack: ['{', '[']\n",
      "한세트 종료\n",
      "\n",
      "['{', '[', '(']\n",
      "['{', '[', '(', '{']\n",
      "['{', '[', '(', '{', '}']\n",
      "뒷괄호 만남\n",
      "back: }\n",
      "stack: ['{', '[', '(', '{']\n",
      "\n",
      "front: {\n",
      "\n",
      "s: }\n",
      "stack: ['{', '[', '(']\n",
      "한세트 종료\n",
      "\n",
      "['{', '[', '(', ')']\n",
      "뒷괄호 만남\n",
      "back: )\n",
      "stack: ['{', '[', '(']\n",
      "\n",
      "front: (\n",
      "\n",
      "s: )\n",
      "stack: ['{', '[']\n",
      "한세트 종료\n",
      "\n",
      "['{', '[', ']']\n",
      "뒷괄호 만남\n",
      "back: ]\n",
      "stack: ['{', '[']\n",
      "\n",
      "front: [\n",
      "\n",
      "s: ]\n",
      "stack: ['{']\n",
      "한세트 종료\n",
      "\n",
      "['{', '}']\n",
      "뒷괄호 만남\n",
      "back: }\n",
      "stack: ['{']\n",
      "\n",
      "front: {\n",
      "\n",
      "s: }\n",
      "stack: []\n",
      "한세트 종료\n",
      "\n"
     ]
    },
    {
     "data": {
      "text/plain": [
       "1"
      ]
     },
     "execution_count": 7,
     "metadata": {},
     "output_type": "execute_result"
    }
   ],
   "source": [
    "S = \"{[({})({})]}\"\n",
    "\n",
    "solution(S)"
   ]
  },
  {
   "cell_type": "markdown",
   "metadata": {},
   "source": [
    "## Fish"
   ]
  },
  {
   "cell_type": "markdown",
   "metadata": {},
   "source": [
    "## Nest"
   ]
  },
  {
   "cell_type": "code",
   "execution_count": 6,
   "metadata": {},
   "outputs": [],
   "source": [
    "S = \"(()(())())\""
   ]
  },
  {
   "cell_type": "code",
   "execution_count": 8,
   "metadata": {},
   "outputs": [],
   "source": [
    "def solution(S):\n",
    "\n",
    "    stack = []\n",
    "    \n",
    "    for s in S:\n",
    "        stack.append(s)\n",
    "        print(stack)\n",
    "\n",
    "        if s == \")\":\n",
    "            print(\"뒷괄호 만남\")\n",
    "            \n",
    "            back = stack.pop()\n",
    "            \n",
    "            print(\"back:\",back)\n",
    "            print(\"stack:\",stack)\n",
    "            print()\n",
    "            \n",
    "            # stack 비어있는데 뒷괄호 만나면 \n",
    "            if len(stack) == 0:\n",
    "                return 0\n",
    "            \n",
    "            front = stack.pop()\n",
    "            \n",
    "            print(\"front:\",front)\n",
    "            print()\n",
    "            print(\"s:\",s)\n",
    "            print(\"stack:\",stack)\n",
    "\n",
    "            if s == \")\":\n",
    "                if front != \"(\":\n",
    "                    return 0\n",
    "           \n",
    "            print(\"한세트 종료\")\n",
    "            print()\n",
    "            \n",
    "    return 1 if len(stack) == 0 else 0"
   ]
  },
  {
   "cell_type": "code",
   "execution_count": 12,
   "metadata": {},
   "outputs": [
    {
     "name": "stdout",
     "output_type": "stream",
     "text": [
      "['(']\n",
      "['(', '(']\n",
      "['(', '(', ')']\n",
      "뒷괄호 만남\n",
      "back: )\n",
      "stack: ['(', '(']\n",
      "\n",
      "front: (\n",
      "\n",
      "s: )\n",
      "stack: ['(']\n",
      "한세트 종료\n",
      "\n",
      "['(', '(']\n",
      "['(', '(', '(']\n",
      "['(', '(', '(', ')']\n",
      "뒷괄호 만남\n",
      "back: )\n",
      "stack: ['(', '(', '(']\n",
      "\n",
      "front: (\n",
      "\n",
      "s: )\n",
      "stack: ['(', '(']\n",
      "한세트 종료\n",
      "\n",
      "['(', '(', '(']\n",
      "['(', '(', '(', ')']\n",
      "뒷괄호 만남\n",
      "back: )\n",
      "stack: ['(', '(', '(']\n",
      "\n",
      "front: (\n",
      "\n",
      "s: )\n",
      "stack: ['(', '(']\n",
      "한세트 종료\n",
      "\n",
      "['(', '(', ')']\n",
      "뒷괄호 만남\n",
      "back: )\n",
      "stack: ['(', '(']\n",
      "\n",
      "front: (\n",
      "\n",
      "s: )\n",
      "stack: ['(']\n",
      "한세트 종료\n",
      "\n",
      "['(', ')']\n",
      "뒷괄호 만남\n",
      "back: )\n",
      "stack: ['(']\n",
      "\n",
      "front: (\n",
      "\n",
      "s: )\n",
      "stack: []\n",
      "한세트 종료\n",
      "\n"
     ]
    },
    {
     "data": {
      "text/plain": [
       "1"
      ]
     },
     "execution_count": 12,
     "metadata": {},
     "output_type": "execute_result"
    }
   ],
   "source": [
    "S = \"(()(()()))\"\n",
    "solution(S)"
   ]
  },
  {
   "cell_type": "markdown",
   "metadata": {},
   "source": [
    "## Stonewall"
   ]
  },
  {
   "cell_type": "code",
   "execution_count": 15,
   "metadata": {},
   "outputs": [],
   "source": [
    "def solution(H):\n",
    "    \n",
    "    stack = []\n",
    "    count = 0\n",
    "\n",
    "    for h in H:\n",
    "\n",
    "        while stack and stack[-1] > h:\n",
    "            print(stack[-1])\n",
    "            stack.pop()\n",
    "\n",
    "        if not stack or stack[-1] < h:\n",
    "            print(stack)\n",
    "            count += 1\n",
    "            stack.append(h)\n",
    "        \n",
    "    return count"
   ]
  },
  {
   "cell_type": "code",
   "execution_count": 16,
   "metadata": {},
   "outputs": [
    {
     "name": "stdout",
     "output_type": "stream",
     "text": [
      "[]\n",
      "8\n",
      "[]\n",
      "[5]\n",
      "[5, 7]\n",
      "9\n",
      "[5, 7]\n",
      "8\n",
      "7\n",
      "5\n",
      "[]\n",
      "[4]\n"
     ]
    },
    {
     "data": {
      "text/plain": [
       "7"
      ]
     },
     "execution_count": 16,
     "metadata": {},
     "output_type": "execute_result"
    }
   ],
   "source": [
    "H = [8, 8, 5, 7, 9, 8, 7, 4, 8]\n",
    "solution(H)"
   ]
  },
  {
   "cell_type": "markdown",
   "metadata": {},
   "source": [
    "## Dominator"
   ]
  },
  {
   "cell_type": "code",
   "execution_count": 204,
   "metadata": {},
   "outputs": [],
   "source": [
    "def fastLeader(A):\n",
    "    n = len(A)\n",
    "    leader = -1\n",
    "    A.sort()\n",
    "    candidate = A[n // 2]\n",
    "    count = 0\n",
    "    for i in range(n):\n",
    "        if (A[i] == candidate):\n",
    "            count += 1\n",
    "    if (count > n // 2):\n",
    "        leader = candidate\n",
    "            \n",
    "    return leader"
   ]
  },
  {
   "cell_type": "code",
   "execution_count": 212,
   "metadata": {},
   "outputs": [],
   "source": [
    "def solution(A):\n",
    "    X = len(A)\n",
    "    count = 0\n",
    "    leader = -1\n",
    "    idx = -1\n",
    "\n",
    "    if X == 0:\n",
    "        return -1\n",
    "    \n",
    "    A_sorted = sorted(A)\n",
    "    \n",
    "    candidate = A_sorted[X//2]\n",
    "    print(candidate)\n",
    "    \n",
    "\n",
    "    \n",
    "    for i in range(X):\n",
    "        if A[i] == candidate:\n",
    "            count += 1\n",
    "        if count > (X//2):\n",
    "            leader = candidate\n",
    "            idx = i\n",
    "        \n",
    "    return idx"
   ]
  },
  {
   "cell_type": "code",
   "execution_count": 213,
   "metadata": {},
   "outputs": [
    {
     "name": "stdout",
     "output_type": "stream",
     "text": [
      "3\n"
     ]
    },
    {
     "data": {
      "text/plain": [
       "7"
      ]
     },
     "execution_count": 213,
     "metadata": {},
     "output_type": "execute_result"
    }
   ],
   "source": [
    "A = [3,4,3,2,3,-1,3,3]\n",
    "solution(A)"
   ]
  },
  {
   "cell_type": "code",
   "execution_count": 214,
   "metadata": {},
   "outputs": [
    {
     "data": {
      "text/plain": [
       "-1"
      ]
     },
     "execution_count": 214,
     "metadata": {},
     "output_type": "execute_result"
    }
   ],
   "source": [
    "A = []\n",
    "\n",
    "solution(A)"
   ]
  },
  {
   "cell_type": "code",
   "execution_count": 215,
   "metadata": {},
   "outputs": [
    {
     "name": "stdout",
     "output_type": "stream",
     "text": [
      "1\n"
     ]
    },
    {
     "data": {
      "text/plain": [
       "0"
      ]
     },
     "execution_count": 215,
     "metadata": {},
     "output_type": "execute_result"
    }
   ],
   "source": [
    "A = [1]\n",
    "\n",
    "solution(A)"
   ]
  },
  {
   "cell_type": "code",
   "execution_count": 216,
   "metadata": {},
   "outputs": [
    {
     "name": "stdout",
     "output_type": "stream",
     "text": [
      "1\n"
     ]
    },
    {
     "data": {
      "text/plain": [
       "1"
      ]
     },
     "execution_count": 216,
     "metadata": {},
     "output_type": "execute_result"
    }
   ],
   "source": [
    "A = [1,1]\n",
    "\n",
    "solution(A)"
   ]
  },
  {
   "cell_type": "code",
   "execution_count": 217,
   "metadata": {},
   "outputs": [
    {
     "name": "stdout",
     "output_type": "stream",
     "text": [
      "2\n"
     ]
    },
    {
     "data": {
      "text/plain": [
       "-1"
      ]
     },
     "execution_count": 217,
     "metadata": {},
     "output_type": "execute_result"
    }
   ],
   "source": [
    "A = [2,1,1,3]\n",
    "\n",
    "solution(A)"
   ]
  },
  {
   "cell_type": "markdown",
   "metadata": {},
   "source": [
    "## EquiLeader"
   ]
  },
  {
   "cell_type": "code",
   "execution_count": 176,
   "metadata": {},
   "outputs": [
    {
     "data": {
      "text/plain": [
       "-1"
      ]
     },
     "execution_count": 176,
     "metadata": {},
     "output_type": "execute_result"
    }
   ],
   "source": [
    "fastLeader([4, 3])"
   ]
  },
  {
   "cell_type": "code",
   "execution_count": 193,
   "metadata": {},
   "outputs": [],
   "source": [
    "def solution(A):\n",
    "    \n",
    "    equ_count = 0\n",
    "    \n",
    "\n",
    "    for i in range(1,len(A)):\n",
    "        front = A[:i]\n",
    "        back = A[i:]\n",
    "        #print(front, back)\n",
    "        \n",
    "        F = len(front)\n",
    "        B = len(back)\n",
    "        \n",
    "        #print(\"F,B:\",F,B)\n",
    "        \n",
    "        front.sort()\n",
    "        back.sort()\n",
    "        #print(front, back)\n",
    "        \n",
    "        F_count = 0\n",
    "        B_count = 0\n",
    "    \n",
    "        \n",
    "        F_candidate = front[F // 2]\n",
    "        B_candidate = back[B // 2]\n",
    "        #print(\"candidate:\",F_candidate,B_candidate)\n",
    "        \n",
    "        F_leader = -1\n",
    "        B_leader = -1\n",
    "        \n",
    "        if F == 1 or B == 1:\n",
    "            F_leader = F_candidate\n",
    "            B_leader = B_candidate\n",
    "        \n",
    "        for i in range(F):\n",
    "            if (front[i] == F_candidate):\n",
    "                F_count += 1\n",
    "            if (F_count <= F // 2):\n",
    "                F_leader = -1            \n",
    "            if (F_count > F // 2):\n",
    "                F_leader = F_candidate\n",
    "\n",
    "                \n",
    "        for i in range(B):\n",
    "            if (back[i] == B_candidate):\n",
    "                B_count += 1\n",
    "            if (B_count > B // 2):\n",
    "                B_leader = B_candidate\n",
    "            if (B_count <= B // 2):\n",
    "                B_leader = -1\n",
    "                \n",
    "        #print(\"N//2:\",F//2,B//2)\n",
    "        #print(\"count:\",F_count,B_count)\n",
    "        #print(\"leader:\",F_leader,B_leader)\n",
    "        #print()\n",
    "        \n",
    "        if F_leader == B_leader:\n",
    "            equ_count += 1\n",
    "            \n",
    "    return equ_count"
   ]
  },
  {
   "cell_type": "code",
   "execution_count": 194,
   "metadata": {},
   "outputs": [
    {
     "data": {
      "text/plain": [
       "2"
      ]
     },
     "execution_count": 194,
     "metadata": {},
     "output_type": "execute_result"
    }
   ],
   "source": [
    "A = [4,3,4,4,4,2]\n",
    "solution(A)"
   ]
  },
  {
   "cell_type": "markdown",
   "metadata": {},
   "source": [
    "## Max Sum of Slice"
   ]
  },
  {
   "cell_type": "code",
   "execution_count": 288,
   "metadata": {},
   "outputs": [],
   "source": [
    "def solution(A):\n",
    "\n",
    "    max_sum = sum(A)\n",
    "    \n",
    "    for i in range(len(A)):\n",
    "        temp_sum = A[i]\n",
    "        #print()\n",
    "        #print('*****i:',temp_sum)\n",
    "        \n",
    "        for j in range(i,len(A)):\n",
    "            #print(i,j)\n",
    "            \n",
    "            if i== j:\n",
    "                #print('i+j:',temp_sum)\n",
    "                #print()\n",
    "                if max_sum < temp_sum:\n",
    "                    max_sum = temp_sum\n",
    "                    #print(\"max:\",max_sum)\n",
    "                    #print()\n",
    "            \n",
    "            if i!= j:\n",
    "                temp_sum += A[j]\n",
    "                #print('i+j:',temp_sum)\n",
    "                #print()\n",
    "                if max_sum < temp_sum:\n",
    "                    max_sum = temp_sum\n",
    "                    #print(\"max:\",max_sum)\n",
    "                    #print()\n",
    "                \n",
    "    return max_sum"
   ]
  },
  {
   "cell_type": "code",
   "execution_count": 289,
   "metadata": {},
   "outputs": [
    {
     "data": {
      "text/plain": [
       "5"
      ]
     },
     "execution_count": 289,
     "metadata": {},
     "output_type": "execute_result"
    }
   ],
   "source": [
    "A = [3,2,-6,4,0]\n",
    "solution(A)"
   ]
  },
  {
   "cell_type": "code",
   "execution_count": 290,
   "metadata": {},
   "outputs": [
    {
     "data": {
      "text/plain": [
       "3"
      ]
     },
     "execution_count": 290,
     "metadata": {},
     "output_type": "execute_result"
    }
   ],
   "source": [
    "A = [3]\n",
    "solution(A)"
   ]
  },
  {
   "cell_type": "code",
   "execution_count": 291,
   "metadata": {},
   "outputs": [
    {
     "data": {
      "text/plain": [
       "0"
      ]
     },
     "execution_count": 291,
     "metadata": {},
     "output_type": "execute_result"
    }
   ],
   "source": [
    "A = []\n",
    "solution(A)"
   ]
  },
  {
   "cell_type": "code",
   "execution_count": 292,
   "metadata": {},
   "outputs": [
    {
     "data": {
      "text/plain": [
       "-1"
      ]
     },
     "execution_count": 292,
     "metadata": {},
     "output_type": "execute_result"
    }
   ],
   "source": [
    "A = [-1,-3]\n",
    "solution(A)"
   ]
  },
  {
   "cell_type": "markdown",
   "metadata": {},
   "source": [
    "## Max Sum of Slice Double - 포기"
   ]
  },
  {
   "cell_type": "code",
   "execution_count": null,
   "metadata": {},
   "outputs": [],
   "source": [
    "def solution(A):\n",
    "    "
   ]
  },
  {
   "cell_type": "code",
   "execution_count": null,
   "metadata": {},
   "outputs": [],
   "source": [
    "A = [3,2,6,-1,4,5,-1,2]\n",
    "solution(A)"
   ]
  },
  {
   "cell_type": "markdown",
   "metadata": {},
   "source": [
    "## Count Factors"
   ]
  },
  {
   "cell_type": "code",
   "execution_count": 317,
   "metadata": {},
   "outputs": [],
   "source": [
    "def solution(N):\n",
    "    result = 0\n",
    "    i = 1\n",
    "    while i*i <= N:\n",
    "        print(i)\n",
    "        if i*i == N:\n",
    "            result += 1\n",
    "            \n",
    "        elif N % i == 0:\n",
    "            result += 2\n",
    "        i += 1\n",
    "        \n",
    "    return result\n",
    "    "
   ]
  },
  {
   "cell_type": "code",
   "execution_count": 318,
   "metadata": {},
   "outputs": [
    {
     "name": "stdout",
     "output_type": "stream",
     "text": [
      "1\n",
      "2\n",
      "3\n",
      "4\n"
     ]
    },
    {
     "data": {
      "text/plain": [
       "5"
      ]
     },
     "execution_count": 318,
     "metadata": {},
     "output_type": "execute_result"
    }
   ],
   "source": [
    "N = 16\n",
    "solution(N)"
   ]
  },
  {
   "cell_type": "markdown",
   "metadata": {},
   "source": [
    "## CountNonDivisible"
   ]
  },
  {
   "cell_type": "markdown",
   "metadata": {},
   "source": [
    "A[0] = 3, the non-divisors are: 2, 6,\n",
    "A[1] = 1, the non-divisors are: 3, 2, 3, 6,\n",
    "A[2] = 2, the non-divisors are: 3, 3, 6,\n",
    "A[3] = 3, the non-divisors are: 2, 6,\n",
    "A[4] = 6, there aren't any non-divisors."
   ]
  },
  {
   "cell_type": "code",
   "execution_count": 329,
   "metadata": {},
   "outputs": [],
   "source": [
    "def solution(A):\n",
    "    result = [0] * len(A)\n",
    "    \n",
    "    for i in range(len(A)):\n",
    "        count = 0\n",
    "        for j in A:\n",
    "            if A[i] % j != 0:\n",
    "                count += 1\n",
    "        #print(count)\n",
    "        result[i] = count\n",
    "    return result\n",
    "        "
   ]
  },
  {
   "cell_type": "code",
   "execution_count": 330,
   "metadata": {},
   "outputs": [
    {
     "data": {
      "text/plain": [
       "[2, 4, 3, 2, 0]"
      ]
     },
     "execution_count": 330,
     "metadata": {},
     "output_type": "execute_result"
    }
   ],
   "source": [
    "A = [3,1,2,3,6]\n",
    "solution(A)"
   ]
  },
  {
   "cell_type": "markdown",
   "metadata": {},
   "source": [
    "## Chocolate By numbers"
   ]
  },
  {
   "cell_type": "code",
   "execution_count": 335,
   "metadata": {},
   "outputs": [],
   "source": [
    "def solution(N, M):\n",
    "    ate = 0\n",
    "    now = -M\n",
    "    counter = [0]*N\n",
    "    \n",
    "    for i in range(N+1):\n",
    "        now += M\n",
    "        \n",
    "        R = now % N\n",
    "        \n",
    "        if counter[R] == 0:\n",
    "            counter[R] = 1\n",
    "            ate += 1\n",
    "        elif counter[R] == 1:\n",
    "            return ate\n",
    "        \n",
    "#Timeout"
   ]
  },
  {
   "cell_type": "code",
   "execution_count": 343,
   "metadata": {},
   "outputs": [],
   "source": [
    "# 최대공약수 구하기\n",
    "\n",
    "def getGCD(a, b):\n",
    "    if a < b:\n",
    "        a, b = b, a\n",
    "    if a % b == 0:\n",
    "        return b\n",
    "    return getGCD(b, a % b)\n",
    "\n",
    "def solution(N, M):\n",
    "    return N // getGCD(N, M)"
   ]
  },
  {
   "cell_type": "code",
   "execution_count": 344,
   "metadata": {},
   "outputs": [
    {
     "data": {
      "text/plain": [
       "5"
      ]
     },
     "execution_count": 344,
     "metadata": {},
     "output_type": "execute_result"
    }
   ],
   "source": [
    "solution(10,4)"
   ]
  },
  {
   "cell_type": "code",
   "execution_count": 345,
   "metadata": {},
   "outputs": [
    {
     "data": {
      "text/plain": [
       "10"
      ]
     },
     "execution_count": 345,
     "metadata": {},
     "output_type": "execute_result"
    }
   ],
   "source": [
    "solution(10,3)"
   ]
  },
  {
   "cell_type": "code",
   "execution_count": null,
   "metadata": {},
   "outputs": [],
   "source": []
  }
 ],
 "metadata": {
  "kernelspec": {
   "display_name": "Python 3",
   "language": "python",
   "name": "python3"
  },
  "language_info": {
   "codemirror_mode": {
    "name": "ipython",
    "version": 3
   },
   "file_extension": ".py",
   "mimetype": "text/x-python",
   "name": "python",
   "nbconvert_exporter": "python",
   "pygments_lexer": "ipython3",
   "version": "3.8.3"
  }
 },
 "nbformat": 4,
 "nbformat_minor": 5
}
