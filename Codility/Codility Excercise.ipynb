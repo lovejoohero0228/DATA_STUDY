{
 "cells": [
  {
   "cell_type": "markdown",
   "id": "c9d28711",
   "metadata": {},
   "source": [
    "## 1. Binary Gap"
   ]
  },
  {
   "cell_type": "code",
   "execution_count": 105,
   "id": "92b05fcc",
   "metadata": {},
   "outputs": [
    {
     "name": "stdout",
     "output_type": "stream",
     "text": [
      "binary: 100000\n",
      "type(binary): <class 'str'>\n",
      "6\n",
      "\n",
      "********1 만남*******\n",
      "현재 i: 0\n",
      "현재 gap : [0, 0, 0, 0, 0, 0, 0]\n",
      "\n",
      "***처리중인 binary: 1 ***\n",
      "(i,j): ( 0 , 1 ),  i+j: 1\n",
      "\n",
      "0을 만남. gap + 1\n",
      "gap: [1, 0, 0, 0, 0, 0, 0]\n",
      "다음 j로 넘어갑니다.\n",
      "\n",
      "***처리중인 binary: 10 ***\n",
      "(i,j): ( 0 , 2 ),  i+j: 2\n",
      "\n",
      "0을 만남. gap + 1\n",
      "gap: [2, 0, 0, 0, 0, 0, 0]\n",
      "다음 j로 넘어갑니다.\n",
      "\n",
      "***처리중인 binary: 100 ***\n",
      "(i,j): ( 0 , 3 ),  i+j: 3\n",
      "\n",
      "0을 만남. gap + 1\n",
      "gap: [3, 0, 0, 0, 0, 0, 0]\n",
      "다음 j로 넘어갑니다.\n",
      "\n",
      "***처리중인 binary: 1000 ***\n",
      "(i,j): ( 0 , 4 ),  i+j: 4\n",
      "\n",
      "0을 만남. gap + 1\n",
      "gap: [4, 0, 0, 0, 0, 0, 0]\n",
      "다음 j로 넘어갑니다.\n",
      "\n",
      "***처리중인 binary: 10000 ***\n",
      "(i,j): ( 0 , 5 ),  i+j: 5\n",
      "\n",
      "마지막 값을 확인했습니다. 종료합니다.\n"
     ]
    },
    {
     "data": {
      "text/plain": [
       "4"
      ]
     },
     "execution_count": 105,
     "metadata": {},
     "output_type": "execute_result"
    }
   ],
   "source": [
    "# you can write to stdout for debugging purposes, e.g.\n",
    "# print(\"this is a debug message\")\n",
    "\n",
    "def solution(N):\n",
    "    \n",
    "    # Change Input Decimal to Binary\n",
    "    # Ragne error 해결 위해 뒤에 공백 하나 추가\n",
    "    binary = bin(N)[2:]\n",
    "    print(\"binary:\",binary)\n",
    "    print(\"type(binary):\",type(binary))\n",
    "    print(len(binary))\n",
    "    print()\n",
    "    \n",
    "    # Gap 생성 및 초기화\n",
    "    gap = [0 for i in range(len(binary))]\n",
    "\n",
    "    # 1 만나면 Gap 리스트에 0 추가 (초기값 0)\n",
    "    for i in range(len(binary)):\n",
    "        if binary[i] == \"1\":\n",
    "            print(\"********1 만남*******\")\n",
    "            print(\"현재 i:\",i)\n",
    "            \n",
    "            gap.append(0)\n",
    "            print(\"현재 gap :\",gap)\n",
    "            print()\n",
    "\n",
    "            # 이어서 1 만나면 다음 index 체크\n",
    "            # 이어서 0 만나면 해당 index의 gap 깂에 +1\n",
    "            j = i+1\n",
    "            while (i+j <= len(binary)-1) and (i<j):\n",
    "                print(\"***처리중인 binary:\",binary[:(i+j)],\"***\")\n",
    "                print(\"(i,j):\",\"(\",i,\",\",j,\"), \", \"i+j:\",i+j)\n",
    "                print()\n",
    "\n",
    "                if binary[j] == \"1\":\n",
    "                    print(\"1이 연속됨. Gap이 없습니다. 다음 i로 넘어갑니다.\")\n",
    "                    print()\n",
    "                    j += 1\n",
    "                    break\n",
    "                    \n",
    "                elif binary[j] == \"0\":\n",
    "                    \n",
    "                    # 맨 마지막 값이 0이면 gap에 +1 하지 않음\n",
    "                    if j == (len(binary)-1):\n",
    "                        print(\"마지막 값을 확인했습니다. 종료합니다.\")\n",
    "                        \n",
    "                    else:\n",
    "                        print(\"0을 만남. gap + 1\")\n",
    "                        gap[i] += 1\n",
    "                        print(\"gap:\",gap)\n",
    "                        print(\"다음 j로 넘어갑니다.\")\n",
    "                        print()\n",
    "                    \n",
    "                    \n",
    "                    j += 1\n",
    "                    continue  \n",
    "                    \n",
    "    # Gap 리스트에서 최댓값 출력\n",
    "    return max(gap)\n",
    "    \n",
    "solution(32)"
   ]
  },
  {
   "cell_type": "markdown",
   "id": "573a46bf",
   "metadata": {},
   "source": [
    "### 제출 답안"
   ]
  },
  {
   "cell_type": "code",
   "execution_count": 165,
   "id": "16274f12",
   "metadata": {},
   "outputs": [
    {
     "data": {
      "text/plain": [
       "4"
      ]
     },
     "execution_count": 165,
     "metadata": {},
     "output_type": "execute_result"
    }
   ],
   "source": [
    "def solution(N):\n",
    "    binary_num = bin(N).lstrip('0b')\n",
    "    count = 0\n",
    "    max_count = 0\n",
    "    for i in binary_num:\n",
    "        #print(\"현재 i:\",i)\n",
    "        \n",
    "        if i == '1':\n",
    "            if max_count < count:\n",
    "                max_count = count\n",
    "                #print(\"count:\",count)\n",
    "                #print(\"max_count:\",max_count)\n",
    "            count =0\n",
    "        # 0이면    \n",
    "        else :\n",
    "            count +=1\n",
    "    #print(binary_num)\n",
    "    return max_count\n",
    "\n",
    "solution(1070)"
   ]
  },
  {
   "cell_type": "markdown",
   "id": "0b71fce3",
   "metadata": {},
   "source": [
    "## 2-1. CyclicRotation"
   ]
  },
  {
   "cell_type": "code",
   "execution_count": 254,
   "id": "3600c39f",
   "metadata": {
    "scrolled": true
   },
   "outputs": [
    {
     "data": {
      "text/plain": [
       "[]"
      ]
     },
     "execution_count": 254,
     "metadata": {},
     "output_type": "execute_result"
    }
   ],
   "source": [
    "# you can write to stdout for debugging purposes, e.g.\n",
    "# print(\"this is a debug message\")\n",
    "\n",
    "def solution(A, K):\n",
    "    #print(\"입력받은 리스트:\",A)\n",
    "    #print()\n",
    "    \n",
    "    #결과값 0으로 초기화\n",
    "    result = [0 for i in range(len(A))]\n",
    "    \n",
    "    if len(A) == 0:\n",
    "        return A\n",
    "    \n",
    "    else:\n",
    "        # Rotation K번 반복\n",
    "        for j in range(K):\n",
    "            #print(\"총 {}번 중, {}번째 반복\".format(K,j+1))\n",
    "\n",
    "            # 마지막 인덱스는 [0]으로 지정    \n",
    "            result[0] = A[len(A)-1]\n",
    "\n",
    "            # 마지막 값 제외하고 인덱스 한칸씩 뒤로 밀기\n",
    "            for i in range(len(A)-1):\n",
    "                result[i+1] = A[i]\n",
    "\n",
    "\n",
    "            # A 업데이트\n",
    "            A = result.copy()\n",
    "\n",
    "            #print(\"result:\",result)\n",
    "            #print()\n",
    "\n",
    "        return result\n",
    "\n",
    "solution(A,K)"
   ]
  },
  {
   "cell_type": "code",
   "execution_count": 245,
   "id": "4f31f5a8",
   "metadata": {},
   "outputs": [
    {
     "data": {
      "text/plain": [
       "[3, 8, 9, 7, 6]"
      ]
     },
     "execution_count": 245,
     "metadata": {},
     "output_type": "execute_result"
    }
   ],
   "source": [
    "A = [3, 8, 9, 7, 6]\n",
    "K = 5\n",
    "\n",
    "solution(A,K)"
   ]
  },
  {
   "cell_type": "code",
   "execution_count": 258,
   "id": "621c7f0f",
   "metadata": {},
   "outputs": [
    {
     "data": {
      "text/plain": [
       "[0]"
      ]
     },
     "execution_count": 258,
     "metadata": {},
     "output_type": "execute_result"
    }
   ],
   "source": [
    "A = [-4]\n",
    "K = 0\n",
    "\n",
    "solution(A,K)"
   ]
  },
  {
   "cell_type": "code",
   "execution_count": 259,
   "id": "3df41ab4",
   "metadata": {},
   "outputs": [
    {
     "data": {
      "text/plain": [
       "[-4]"
      ]
     },
     "execution_count": 259,
     "metadata": {},
     "output_type": "execute_result"
    }
   ],
   "source": [
    "# 짧은 버전 \n",
    "\n",
    "def solution(A, K):\n",
    "    result = [0 for i in range(len(A))]\n",
    "\n",
    "    if len(A) == 0 or K == 0:\n",
    "        return A\n",
    "    else:\n",
    "        for j in range(K):\n",
    "            result[0] = A[-1]\n",
    "\n",
    "            for i in range(len(A)-1):\n",
    "                result[i+1] = A[i]\n",
    "\n",
    "            A = result.copy()\n",
    "\n",
    "        return result\n",
    "\n",
    "solution(A,K)"
   ]
  },
  {
   "cell_type": "markdown",
   "id": "2f90a9df",
   "metadata": {},
   "source": [
    "## 2-2. OddOccurrencesInArray"
   ]
  },
  {
   "cell_type": "code",
   "execution_count": 296,
   "id": "6907e2fd",
   "metadata": {},
   "outputs": [
    {
     "data": {
      "text/plain": [
       "9"
      ]
     },
     "execution_count": 296,
     "metadata": {},
     "output_type": "execute_result"
    }
   ],
   "source": [
    "A=[9, 3, 9, 3, 9, 7, 9,7,9]\n",
    "\n",
    "\n",
    "def solution(A):\n",
    "    A_sum = 0\n",
    "    \n",
    "    for i in list(set(A)):\n",
    "        \n",
    "        if A.count(i)%2 == 0:\n",
    "            A_sum += i * A.count(i)\n",
    "\n",
    "        else:\n",
    "            A_sum += i * (A.count(i)-1)\n",
    "            \n",
    "    return sum(A)- A_sum\n",
    "        \n",
    "solution(A)\n",
    "\n",
    "\n",
    "# Timeout error"
   ]
  },
  {
   "cell_type": "code",
   "execution_count": 326,
   "id": "88c38480",
   "metadata": {},
   "outputs": [
    {
     "data": {
      "text/plain": [
       "9"
      ]
     },
     "execution_count": 326,
     "metadata": {},
     "output_type": "execute_result"
    }
   ],
   "source": [
    "def solution(A):\n",
    "    \n",
    "    if len(A) == 1:\n",
    "        return A[0]    \n",
    "\n",
    "    A= sorted(A)\n",
    "    #print(A)\n",
    "    for i in range(0,len(A),2):\n",
    "        #print(i)\n",
    "        if i+1 == len(A):\n",
    "            return A[i]\n",
    "                \n",
    "        if A[i] != A [i+1]:\n",
    "            return A[i]\n",
    "\n",
    "solution(A)"
   ]
  },
  {
   "cell_type": "markdown",
   "id": "e4dd84e6",
   "metadata": {},
   "source": [
    "## Frog Jump"
   ]
  },
  {
   "cell_type": "code",
   "execution_count": 359,
   "id": "ee121c57",
   "metadata": {},
   "outputs": [],
   "source": [
    "def solution(X, Y, D):\n",
    "    diff = Y-X\n",
    "    Q = diff//D\n",
    "    R = diff%D\n",
    "    if R ==0:\n",
    "        return Q\n",
    "    else:\n",
    "        return Q +1"
   ]
  },
  {
   "cell_type": "code",
   "execution_count": 360,
   "id": "0b00c9f2",
   "metadata": {},
   "outputs": [
    {
     "data": {
      "text/plain": [
       "2"
      ]
     },
     "execution_count": 360,
     "metadata": {},
     "output_type": "execute_result"
    }
   ],
   "source": [
    "X = 30\n",
    "Y = 85\n",
    "D = 30\n",
    "\n",
    "solution(X,Y,D)"
   ]
  },
  {
   "cell_type": "markdown",
   "id": "2b92d05f",
   "metadata": {},
   "source": [
    "## PermMissingElem"
   ]
  },
  {
   "cell_type": "code",
   "execution_count": 371,
   "id": "7d44bf54",
   "metadata": {},
   "outputs": [],
   "source": [
    "def solution(A):\n",
    "    A_sum = sum(A)\n",
    "    total_sum = sum(range(1,len(A)+2))\n",
    "    \n",
    "    return total_sum - A_sum"
   ]
  },
  {
   "cell_type": "code",
   "execution_count": 374,
   "id": "f2399973",
   "metadata": {},
   "outputs": [
    {
     "data": {
      "text/plain": [
       "4"
      ]
     },
     "execution_count": 374,
     "metadata": {},
     "output_type": "execute_result"
    }
   ],
   "source": [
    "A = [2,1,3,5,7,8,9,6]\n",
    "solution(A)"
   ]
  },
  {
   "cell_type": "markdown",
   "id": "22a9806b",
   "metadata": {},
   "source": [
    "## TapeEquilibrium"
   ]
  },
  {
   "cell_type": "code",
   "execution_count": null,
   "id": "0476603a",
   "metadata": {},
   "outputs": [],
   "source": []
  },
  {
   "cell_type": "code",
   "execution_count": null,
   "id": "41f98eb4",
   "metadata": {},
   "outputs": [],
   "source": []
  }
 ],
 "metadata": {
  "kernelspec": {
   "display_name": "Python 3 (ipykernel)",
   "language": "python",
   "name": "python3"
  },
  "language_info": {
   "codemirror_mode": {
    "name": "ipython",
    "version": 3
   },
   "file_extension": ".py",
   "mimetype": "text/x-python",
   "name": "python",
   "nbconvert_exporter": "python",
   "pygments_lexer": "ipython3",
   "version": "3.9.12"
  }
 },
 "nbformat": 4,
 "nbformat_minor": 5
}
