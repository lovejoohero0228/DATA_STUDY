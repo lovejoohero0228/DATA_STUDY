{
 "cells": [
  {
   "cell_type": "markdown",
   "metadata": {},
   "source": [
    "## 자전거 대여 수요 예측\n",
    "#### 2011년 1월부터 2012년 12월까지 날짜/시간, 기온, 습도, 풍속 등의 정보를 기반으로 1시간 간격 동안의 자전거 대여 횟수가 기재되어 있다."
   ]
  },
  {
   "cell_type": "markdown",
   "metadata": {},
   "source": [
    "- datetime: hourly date + timestamp\n",
    "- season : 1=봄, 2=여름, 3=가을, 4=겨울\n",
    "- holiday : 1=토,일요일의 주말을 제외한 국경일 등의 휴일, 0=휴일이 아닌 날\n",
    "- workingday : 1=토,일요일의 주말 및 휴일이 아닌 주중, 0=주말 및 휴일\n",
    "- weather:\n",
    " - 1=맑음, 약간 구름 낀 흐림\n",
    " - 2=안개, 안개+흐림\n",
    " - 3=가벼운 눈, 가벼운 비+천둥\n",
    " - 4=심한 눈/비, 천둥/번개\n",
    "- temp : 온도 (섭씨)\n",
    "- atemp : 체감온도 (섭씨)\n",
    "- humidity : 상대습도\n",
    "- windspeed : 풍속\n",
    "- casual : 사전에 등록되지 않은 사용자가 대여한 횟수\n",
    "- registered : 사전에 등록된 사용자가 대여한 횟수\n",
    "- count : 대여 횟수"
   ]
  },
  {
   "cell_type": "code",
   "execution_count": 30,
   "metadata": {},
   "outputs": [],
   "source": [
    "import pandas as pd\n",
    "import numpy as np\n",
    "import seaborn as sns"
   ]
  },
  {
   "cell_type": "code",
   "execution_count": 31,
   "metadata": {},
   "outputs": [],
   "source": [
    "import warnings\n",
    "warnings.filterwarnings(\"ignore\",category=RuntimeWarning)"
   ]
  },
  {
   "cell_type": "markdown",
   "metadata": {},
   "source": []
  },
  {
   "cell_type": "markdown",
   "metadata": {},
   "source": [
    "# 1. 데이터 불러오기 및 전처리\n",
    "### (1) bikeshare.csv를 pandas를 이용해 bike_df의 이름으로 저장하고 행렬 개수와 5개의 자료를 뽑아보시오."
   ]
  },
  {
   "cell_type": "code",
   "execution_count": 32,
   "metadata": {},
   "outputs": [
    {
     "name": "stdout",
     "output_type": "stream",
     "text": [
      "              datetime  season  holiday  workingday  weather  temp   atemp  \\\n",
      "0  2011-01-01 00:00:00       1        0           0        1  9.84  14.395   \n",
      "1  2011-01-01 01:00:00       1        0           0        1  9.02  13.635   \n",
      "2  2011-01-01 02:00:00       1        0           0        1  9.02  13.635   \n",
      "3  2011-01-01 03:00:00       1        0           0        1  9.84  14.395   \n",
      "4  2011-01-01 04:00:00       1        0           0        1  9.84  14.395   \n",
      "\n",
      "   humidity  windspeed  casual  registered  count  \n",
      "0        81        0.0       3          13     16  \n",
      "1        80        0.0       8          32     40  \n",
      "2        80        0.0       5          27     32  \n",
      "3        75        0.0       3          10     13  \n",
      "4        75        0.0       0           1      1  \n"
     ]
    }
   ],
   "source": [
    "bike_df = pd.read_csv(\"bikeshare.csv\")\n",
    "bike_df.shape\n",
    "print(bike_df.head())"
   ]
  },
  {
   "cell_type": "markdown",
   "metadata": {},
   "source": [
    "## (2) bike_df에서 항목별 데이터타입을 확인한는 코드를 작성하시오."
   ]
  },
  {
   "cell_type": "code",
   "execution_count": 33,
   "metadata": {},
   "outputs": [
    {
     "name": "stdout",
     "output_type": "stream",
     "text": [
      "<class 'pandas.core.frame.DataFrame'>\n",
      "RangeIndex: 10886 entries, 0 to 10885\n",
      "Data columns (total 12 columns):\n",
      " #   Column      Non-Null Count  Dtype  \n",
      "---  ------      --------------  -----  \n",
      " 0   datetime    10886 non-null  object \n",
      " 1   season      10886 non-null  int64  \n",
      " 2   holiday     10886 non-null  int64  \n",
      " 3   workingday  10886 non-null  int64  \n",
      " 4   weather     10886 non-null  int64  \n",
      " 5   temp        10886 non-null  float64\n",
      " 6   atemp       10886 non-null  float64\n",
      " 7   humidity    10886 non-null  int64  \n",
      " 8   windspeed   10886 non-null  float64\n",
      " 9   casual      10886 non-null  int64  \n",
      " 10  registered  10886 non-null  int64  \n",
      " 11  count       10886 non-null  int64  \n",
      "dtypes: float64(3), int64(8), object(1)\n",
      "memory usage: 1020.7+ KB\n"
     ]
    }
   ],
   "source": [
    "bike_df.info()"
   ]
  },
  {
   "cell_type": "markdown",
   "metadata": {},
   "source": [
    "### (3) pandas를 이용해 datetime의 칼럼을 년, 월, 일, 시간과 같은 4개의 속성으로 분리하시오.\n",
    "- 판다스에서 문자열을 datatime 타입으로 변환하는 apply(pd.to_datetime) 메서드를 이용해 datetime이라는 이름의 새로운 칼럼을 만드시오."
   ]
  },
  {
   "cell_type": "code",
   "execution_count": 34,
   "metadata": {},
   "outputs": [],
   "source": [
    "bike_df['datetime'] = bike_df['datetime'].apply(pd.to_datetime)"
   ]
  },
  {
   "cell_type": "code",
   "execution_count": 35,
   "metadata": {},
   "outputs": [
    {
     "name": "stdout",
     "output_type": "stream",
     "text": [
      "<class 'pandas.core.frame.DataFrame'>\n",
      "RangeIndex: 10886 entries, 0 to 10885\n",
      "Data columns (total 12 columns):\n",
      " #   Column      Non-Null Count  Dtype         \n",
      "---  ------      --------------  -----         \n",
      " 0   datetime    10886 non-null  datetime64[ns]\n",
      " 1   season      10886 non-null  int64         \n",
      " 2   holiday     10886 non-null  int64         \n",
      " 3   workingday  10886 non-null  int64         \n",
      " 4   weather     10886 non-null  int64         \n",
      " 5   temp        10886 non-null  float64       \n",
      " 6   atemp       10886 non-null  float64       \n",
      " 7   humidity    10886 non-null  int64         \n",
      " 8   windspeed   10886 non-null  float64       \n",
      " 9   casual      10886 non-null  int64         \n",
      " 10  registered  10886 non-null  int64         \n",
      " 11  count       10886 non-null  int64         \n",
      "dtypes: datetime64[ns](1), float64(3), int64(8)\n",
      "memory usage: 1020.7 KB\n"
     ]
    }
   ],
   "source": [
    "bike_df.info()"
   ]
  },
  {
   "cell_type": "code",
   "execution_count": 36,
   "metadata": {},
   "outputs": [
    {
     "data": {
      "text/html": [
       "<div>\n",
       "<style scoped>\n",
       "    .dataframe tbody tr th:only-of-type {\n",
       "        vertical-align: middle;\n",
       "    }\n",
       "\n",
       "    .dataframe tbody tr th {\n",
       "        vertical-align: top;\n",
       "    }\n",
       "\n",
       "    .dataframe thead th {\n",
       "        text-align: right;\n",
       "    }\n",
       "</style>\n",
       "<table border=\"1\" class=\"dataframe\">\n",
       "  <thead>\n",
       "    <tr style=\"text-align: right;\">\n",
       "      <th></th>\n",
       "      <th>datetime</th>\n",
       "      <th>season</th>\n",
       "      <th>holiday</th>\n",
       "      <th>workingday</th>\n",
       "      <th>weather</th>\n",
       "      <th>temp</th>\n",
       "      <th>atemp</th>\n",
       "      <th>humidity</th>\n",
       "      <th>windspeed</th>\n",
       "      <th>casual</th>\n",
       "      <th>registered</th>\n",
       "      <th>count</th>\n",
       "      <th>year</th>\n",
       "      <th>month</th>\n",
       "      <th>day</th>\n",
       "      <th>time</th>\n",
       "    </tr>\n",
       "  </thead>\n",
       "  <tbody>\n",
       "    <tr>\n",
       "      <th>0</th>\n",
       "      <td>2011-01-01 00:00:00</td>\n",
       "      <td>1</td>\n",
       "      <td>0</td>\n",
       "      <td>0</td>\n",
       "      <td>1</td>\n",
       "      <td>9.84</td>\n",
       "      <td>14.395</td>\n",
       "      <td>81</td>\n",
       "      <td>0.0</td>\n",
       "      <td>3</td>\n",
       "      <td>13</td>\n",
       "      <td>16</td>\n",
       "      <td>2011</td>\n",
       "      <td>1</td>\n",
       "      <td>1</td>\n",
       "      <td>00:00:00</td>\n",
       "    </tr>\n",
       "    <tr>\n",
       "      <th>1</th>\n",
       "      <td>2011-01-01 01:00:00</td>\n",
       "      <td>1</td>\n",
       "      <td>0</td>\n",
       "      <td>0</td>\n",
       "      <td>1</td>\n",
       "      <td>9.02</td>\n",
       "      <td>13.635</td>\n",
       "      <td>80</td>\n",
       "      <td>0.0</td>\n",
       "      <td>8</td>\n",
       "      <td>32</td>\n",
       "      <td>40</td>\n",
       "      <td>2011</td>\n",
       "      <td>1</td>\n",
       "      <td>1</td>\n",
       "      <td>01:00:00</td>\n",
       "    </tr>\n",
       "    <tr>\n",
       "      <th>2</th>\n",
       "      <td>2011-01-01 02:00:00</td>\n",
       "      <td>1</td>\n",
       "      <td>0</td>\n",
       "      <td>0</td>\n",
       "      <td>1</td>\n",
       "      <td>9.02</td>\n",
       "      <td>13.635</td>\n",
       "      <td>80</td>\n",
       "      <td>0.0</td>\n",
       "      <td>5</td>\n",
       "      <td>27</td>\n",
       "      <td>32</td>\n",
       "      <td>2011</td>\n",
       "      <td>1</td>\n",
       "      <td>1</td>\n",
       "      <td>02:00:00</td>\n",
       "    </tr>\n",
       "    <tr>\n",
       "      <th>3</th>\n",
       "      <td>2011-01-01 03:00:00</td>\n",
       "      <td>1</td>\n",
       "      <td>0</td>\n",
       "      <td>0</td>\n",
       "      <td>1</td>\n",
       "      <td>9.84</td>\n",
       "      <td>14.395</td>\n",
       "      <td>75</td>\n",
       "      <td>0.0</td>\n",
       "      <td>3</td>\n",
       "      <td>10</td>\n",
       "      <td>13</td>\n",
       "      <td>2011</td>\n",
       "      <td>1</td>\n",
       "      <td>1</td>\n",
       "      <td>03:00:00</td>\n",
       "    </tr>\n",
       "    <tr>\n",
       "      <th>4</th>\n",
       "      <td>2011-01-01 04:00:00</td>\n",
       "      <td>1</td>\n",
       "      <td>0</td>\n",
       "      <td>0</td>\n",
       "      <td>1</td>\n",
       "      <td>9.84</td>\n",
       "      <td>14.395</td>\n",
       "      <td>75</td>\n",
       "      <td>0.0</td>\n",
       "      <td>0</td>\n",
       "      <td>1</td>\n",
       "      <td>1</td>\n",
       "      <td>2011</td>\n",
       "      <td>1</td>\n",
       "      <td>1</td>\n",
       "      <td>04:00:00</td>\n",
       "    </tr>\n",
       "  </tbody>\n",
       "</table>\n",
       "</div>"
      ],
      "text/plain": [
       "             datetime  season  holiday  workingday  weather  temp   atemp  \\\n",
       "0 2011-01-01 00:00:00       1        0           0        1  9.84  14.395   \n",
       "1 2011-01-01 01:00:00       1        0           0        1  9.02  13.635   \n",
       "2 2011-01-01 02:00:00       1        0           0        1  9.02  13.635   \n",
       "3 2011-01-01 03:00:00       1        0           0        1  9.84  14.395   \n",
       "4 2011-01-01 04:00:00       1        0           0        1  9.84  14.395   \n",
       "\n",
       "   humidity  windspeed  casual  registered  count  year  month  day      time  \n",
       "0        81        0.0       3          13     16  2011      1    1  00:00:00  \n",
       "1        80        0.0       8          32     40  2011      1    1  01:00:00  \n",
       "2        80        0.0       5          27     32  2011      1    1  02:00:00  \n",
       "3        75        0.0       3          10     13  2011      1    1  03:00:00  \n",
       "4        75        0.0       0           1      1  2011      1    1  04:00:00  "
      ]
     },
     "execution_count": 36,
     "metadata": {},
     "output_type": "execute_result"
    }
   ],
   "source": [
    "bike_df['year'] = bike_df['datetime'].dt.year\n",
    "bike_df['month'] = bike_df['datetime'].dt.month\n",
    "bike_df['day'] = bike_df['datetime'].dt.day\n",
    "bike_df['time'] = bike_df['datetime'].dt.time\n",
    "\n",
    "bike_df.head()"
   ]
  },
  {
   "cell_type": "code",
   "execution_count": 37,
   "metadata": {},
   "outputs": [],
   "source": [
    "bike_df.drop(['datetime','casual','registered'], axis = 1,inplace= True)"
   ]
  },
  {
   "cell_type": "markdown",
   "metadata": {},
   "source": []
  },
  {
   "cell_type": "markdown",
   "metadata": {},
   "source": [
    "# 2. 선형회귀 실습하기\n",
    "\n",
    "### (1) X_fearues와 y_target이라는 이름으로 독립변수와 종속변수를 분리하시오. (종속변수 = count)"
   ]
  },
  {
   "cell_type": "code",
   "execution_count": 38,
   "metadata": {},
   "outputs": [],
   "source": [
    "X_features = bike_df.drop(['count'],axis=1)\n",
    "y_target = bike_df['count']"
   ]
  },
  {
   "cell_type": "code",
   "execution_count": 40,
   "metadata": {},
   "outputs": [
    {
     "data": {
      "text/html": [
       "<div>\n",
       "<style scoped>\n",
       "    .dataframe tbody tr th:only-of-type {\n",
       "        vertical-align: middle;\n",
       "    }\n",
       "\n",
       "    .dataframe tbody tr th {\n",
       "        vertical-align: top;\n",
       "    }\n",
       "\n",
       "    .dataframe thead th {\n",
       "        text-align: right;\n",
       "    }\n",
       "</style>\n",
       "<table border=\"1\" class=\"dataframe\">\n",
       "  <thead>\n",
       "    <tr style=\"text-align: right;\">\n",
       "      <th></th>\n",
       "      <th>season</th>\n",
       "      <th>holiday</th>\n",
       "      <th>workingday</th>\n",
       "      <th>weather</th>\n",
       "      <th>temp</th>\n",
       "      <th>atemp</th>\n",
       "      <th>humidity</th>\n",
       "      <th>windspeed</th>\n",
       "      <th>year</th>\n",
       "      <th>month</th>\n",
       "      <th>day</th>\n",
       "      <th>time</th>\n",
       "    </tr>\n",
       "  </thead>\n",
       "  <tbody>\n",
       "    <tr>\n",
       "      <th>0</th>\n",
       "      <td>1</td>\n",
       "      <td>0</td>\n",
       "      <td>0</td>\n",
       "      <td>1</td>\n",
       "      <td>9.84</td>\n",
       "      <td>14.395</td>\n",
       "      <td>81</td>\n",
       "      <td>0.0</td>\n",
       "      <td>2011</td>\n",
       "      <td>1</td>\n",
       "      <td>1</td>\n",
       "      <td>00:00:00</td>\n",
       "    </tr>\n",
       "    <tr>\n",
       "      <th>1</th>\n",
       "      <td>1</td>\n",
       "      <td>0</td>\n",
       "      <td>0</td>\n",
       "      <td>1</td>\n",
       "      <td>9.02</td>\n",
       "      <td>13.635</td>\n",
       "      <td>80</td>\n",
       "      <td>0.0</td>\n",
       "      <td>2011</td>\n",
       "      <td>1</td>\n",
       "      <td>1</td>\n",
       "      <td>01:00:00</td>\n",
       "    </tr>\n",
       "    <tr>\n",
       "      <th>2</th>\n",
       "      <td>1</td>\n",
       "      <td>0</td>\n",
       "      <td>0</td>\n",
       "      <td>1</td>\n",
       "      <td>9.02</td>\n",
       "      <td>13.635</td>\n",
       "      <td>80</td>\n",
       "      <td>0.0</td>\n",
       "      <td>2011</td>\n",
       "      <td>1</td>\n",
       "      <td>1</td>\n",
       "      <td>02:00:00</td>\n",
       "    </tr>\n",
       "    <tr>\n",
       "      <th>3</th>\n",
       "      <td>1</td>\n",
       "      <td>0</td>\n",
       "      <td>0</td>\n",
       "      <td>1</td>\n",
       "      <td>9.84</td>\n",
       "      <td>14.395</td>\n",
       "      <td>75</td>\n",
       "      <td>0.0</td>\n",
       "      <td>2011</td>\n",
       "      <td>1</td>\n",
       "      <td>1</td>\n",
       "      <td>03:00:00</td>\n",
       "    </tr>\n",
       "    <tr>\n",
       "      <th>4</th>\n",
       "      <td>1</td>\n",
       "      <td>0</td>\n",
       "      <td>0</td>\n",
       "      <td>1</td>\n",
       "      <td>9.84</td>\n",
       "      <td>14.395</td>\n",
       "      <td>75</td>\n",
       "      <td>0.0</td>\n",
       "      <td>2011</td>\n",
       "      <td>1</td>\n",
       "      <td>1</td>\n",
       "      <td>04:00:00</td>\n",
       "    </tr>\n",
       "  </tbody>\n",
       "</table>\n",
       "</div>"
      ],
      "text/plain": [
       "   season  holiday  workingday  weather  temp   atemp  humidity  windspeed  \\\n",
       "0       1        0           0        1  9.84  14.395        81        0.0   \n",
       "1       1        0           0        1  9.02  13.635        80        0.0   \n",
       "2       1        0           0        1  9.02  13.635        80        0.0   \n",
       "3       1        0           0        1  9.84  14.395        75        0.0   \n",
       "4       1        0           0        1  9.84  14.395        75        0.0   \n",
       "\n",
       "   year  month  day      time  \n",
       "0  2011      1    1  00:00:00  \n",
       "1  2011      1    1  01:00:00  \n",
       "2  2011      1    1  02:00:00  \n",
       "3  2011      1    1  03:00:00  \n",
       "4  2011      1    1  04:00:00  "
      ]
     },
     "execution_count": 40,
     "metadata": {},
     "output_type": "execute_result"
    }
   ],
   "source": [
    "X_features.head()"
   ]
  },
  {
   "cell_type": "markdown",
   "metadata": {},
   "source": [
    "### (2) 숫자형 카테고리 값을 pandas의 get_dummies를 이용해 원-핫 인코딩하시오.\n",
    "- 현재 데이터타입이 숫자형 카테고리인 칼럼은 year,month,day,hour,holiday,workingday,season,weather 입니다.\n",
    "- X_features_ohe란 이름에 저장하세요."
   ]
  },
  {
   "cell_type": "code",
   "execution_count": 47,
   "metadata": {},
   "outputs": [
    {
     "name": "stdout",
     "output_type": "stream",
     "text": [
      "<class 'pandas.core.frame.DataFrame'>\n",
      "RangeIndex: 10886 entries, 0 to 10885\n",
      "Data columns (total 74 columns):\n",
      " #   Column         Non-Null Count  Dtype  \n",
      "---  ------         --------------  -----  \n",
      " 0   temp           10886 non-null  float64\n",
      " 1   atemp          10886 non-null  float64\n",
      " 2   humidity       10886 non-null  int64  \n",
      " 3   windspeed      10886 non-null  float64\n",
      " 4   count          10886 non-null  int64  \n",
      " 5   year_2011      10886 non-null  uint8  \n",
      " 6   year_2012      10886 non-null  uint8  \n",
      " 7   month_1        10886 non-null  uint8  \n",
      " 8   month_2        10886 non-null  uint8  \n",
      " 9   month_3        10886 non-null  uint8  \n",
      " 10  month_4        10886 non-null  uint8  \n",
      " 11  month_5        10886 non-null  uint8  \n",
      " 12  month_6        10886 non-null  uint8  \n",
      " 13  month_7        10886 non-null  uint8  \n",
      " 14  month_8        10886 non-null  uint8  \n",
      " 15  month_9        10886 non-null  uint8  \n",
      " 16  month_10       10886 non-null  uint8  \n",
      " 17  month_11       10886 non-null  uint8  \n",
      " 18  month_12       10886 non-null  uint8  \n",
      " 19  day_1          10886 non-null  uint8  \n",
      " 20  day_2          10886 non-null  uint8  \n",
      " 21  day_3          10886 non-null  uint8  \n",
      " 22  day_4          10886 non-null  uint8  \n",
      " 23  day_5          10886 non-null  uint8  \n",
      " 24  day_6          10886 non-null  uint8  \n",
      " 25  day_7          10886 non-null  uint8  \n",
      " 26  day_8          10886 non-null  uint8  \n",
      " 27  day_9          10886 non-null  uint8  \n",
      " 28  day_10         10886 non-null  uint8  \n",
      " 29  day_11         10886 non-null  uint8  \n",
      " 30  day_12         10886 non-null  uint8  \n",
      " 31  day_13         10886 non-null  uint8  \n",
      " 32  day_14         10886 non-null  uint8  \n",
      " 33  day_15         10886 non-null  uint8  \n",
      " 34  day_16         10886 non-null  uint8  \n",
      " 35  day_17         10886 non-null  uint8  \n",
      " 36  day_18         10886 non-null  uint8  \n",
      " 37  day_19         10886 non-null  uint8  \n",
      " 38  time_00:00:00  10886 non-null  uint8  \n",
      " 39  time_01:00:00  10886 non-null  uint8  \n",
      " 40  time_02:00:00  10886 non-null  uint8  \n",
      " 41  time_03:00:00  10886 non-null  uint8  \n",
      " 42  time_04:00:00  10886 non-null  uint8  \n",
      " 43  time_05:00:00  10886 non-null  uint8  \n",
      " 44  time_06:00:00  10886 non-null  uint8  \n",
      " 45  time_07:00:00  10886 non-null  uint8  \n",
      " 46  time_08:00:00  10886 non-null  uint8  \n",
      " 47  time_09:00:00  10886 non-null  uint8  \n",
      " 48  time_10:00:00  10886 non-null  uint8  \n",
      " 49  time_11:00:00  10886 non-null  uint8  \n",
      " 50  time_12:00:00  10886 non-null  uint8  \n",
      " 51  time_13:00:00  10886 non-null  uint8  \n",
      " 52  time_14:00:00  10886 non-null  uint8  \n",
      " 53  time_15:00:00  10886 non-null  uint8  \n",
      " 54  time_16:00:00  10886 non-null  uint8  \n",
      " 55  time_17:00:00  10886 non-null  uint8  \n",
      " 56  time_18:00:00  10886 non-null  uint8  \n",
      " 57  time_19:00:00  10886 non-null  uint8  \n",
      " 58  time_20:00:00  10886 non-null  uint8  \n",
      " 59  time_21:00:00  10886 non-null  uint8  \n",
      " 60  time_22:00:00  10886 non-null  uint8  \n",
      " 61  time_23:00:00  10886 non-null  uint8  \n",
      " 62  holiday_0      10886 non-null  uint8  \n",
      " 63  holiday_1      10886 non-null  uint8  \n",
      " 64  workingday_0   10886 non-null  uint8  \n",
      " 65  workingday_1   10886 non-null  uint8  \n",
      " 66  season_1       10886 non-null  uint8  \n",
      " 67  season_2       10886 non-null  uint8  \n",
      " 68  season_3       10886 non-null  uint8  \n",
      " 69  season_4       10886 non-null  uint8  \n",
      " 70  weather_1      10886 non-null  uint8  \n",
      " 71  weather_2      10886 non-null  uint8  \n",
      " 72  weather_3      10886 non-null  uint8  \n",
      " 73  weather_4      10886 non-null  uint8  \n",
      "dtypes: float64(3), int64(2), uint8(69)\n",
      "memory usage: 1.1 MB\n"
     ]
    }
   ],
   "source": [
    "X_features_ohe = pd.get_dummies(bike_df, columns = ['year','month','day','time','holiday','workingday','season','weather'])\n",
    "X_features_ohe.info()"
   ]
  },
  {
   "cell_type": "markdown",
   "metadata": {},
   "source": [
    "### (3) 사이킷런에서 train_test_split을 이용해 훈련세트와 테스트 세트를 분리하시오.\n",
    "- 이때 종속변수는 count 칼럼이고 독립변수는 종속변수 이외의 모든 칼럼입니다.\n",
    "- X_train,X_test,y_train,y_test 이란 이름으로 세트를 만들고 test_size=0.3,random_state=0 이라는 옵션 추가하세요."
   ]
  },
  {
   "cell_type": "code",
   "execution_count": 51,
   "metadata": {},
   "outputs": [],
   "source": [
    "from sklearn.model_selection import train_test_split\n",
    "\n",
    "X_train, X_test, y_train, y_test = train_test_split(X_features_ohe, y_target,test_size = 0.3,random_state = 0)"
   ]
  },
  {
   "cell_type": "markdown",
   "metadata": {},
   "source": [
    "# (4) 회귀 종류별로 실습\n",
    "#### i. 선형 회귀\n",
    "- 사이킷런에서 LinearRegression 을 불러와 fit한 후 X_test를 예측하여 pred란 이름에 저장하시오.\n",
    "- 사이킷런에서의 mean_square_error과 np.sqrt()를 이용해 y_test와 pred의 RMSE를 출력하시오.\n",
    "- 이 모델의 intercept와 coefficient를 출력하시오."
   ]
  },
  {
   "cell_type": "code",
   "execution_count": 52,
   "metadata": {},
   "outputs": [],
   "source": [
    "from sklearn.linear_model import LinearRegression\n",
    "from sklearn.metrics import mean_squared_error\n",
    "\n",
    "lin_reg = LinearRegression()\n",
    "lin_reg.fit(X_train,y_train)\n",
    "\n",
    "pred = lin_reg.predict(X_test)"
   ]
  },
  {
   "cell_type": "code",
   "execution_count": 55,
   "metadata": {},
   "outputs": [
    {
     "data": {
      "text/plain": [
       "1.0105281896952956e-13"
      ]
     },
     "execution_count": 55,
     "metadata": {},
     "output_type": "execute_result"
    }
   ],
   "source": [
    "np.sqrt(mean_squared_error(y_test,pred))"
   ]
  },
  {
   "cell_type": "code",
   "execution_count": 56,
   "metadata": {},
   "outputs": [
    {
     "data": {
      "text/plain": [
       "(-0.0010611810342879835,\n",
       " array([-1.72755142e-14,  2.34257058e-14, -9.85322934e-16,  5.19029264e-15,\n",
       "         1.00000000e+00,  1.17406695e-04,  1.17406695e-04,  4.49228070e-04,\n",
       "         4.49228070e-04,  4.49228070e-04,  1.86026635e-05,  1.86026635e-05,\n",
       "         1.86026635e-05, -4.36972744e-04, -4.36972744e-04, -4.36972744e-04,\n",
       "         3.28768915e-04,  3.28768915e-04,  3.28768915e-04,  1.21253929e-05,\n",
       "         1.21253929e-05,  1.21253929e-05,  1.21253929e-05,  1.21253929e-05,\n",
       "         1.21253929e-05,  1.21253929e-05,  1.21253929e-05,  1.21253929e-05,\n",
       "         1.21253929e-05,  1.21253929e-05,  1.21253929e-05,  1.21253929e-05,\n",
       "         1.21253929e-05,  1.21253929e-05,  1.21253929e-05,  1.21253929e-05,\n",
       "         1.21253929e-05,  1.21253929e-05,  5.60086331e-07,  5.60086330e-07,\n",
       "         5.60086330e-07,  5.60086331e-07,  5.60086330e-07,  5.60086330e-07,\n",
       "         5.60086332e-07,  5.60086331e-07,  5.60086331e-07,  5.60086328e-07,\n",
       "         5.60086332e-07,  5.60086332e-07,  5.60086328e-07,  5.60086332e-07,\n",
       "         5.60086332e-07,  5.60086307e-07,  5.60086332e-07,  5.60086329e-07,\n",
       "         5.60086331e-07,  5.60086331e-07,  5.60086331e-07,  5.60086330e-07,\n",
       "         5.60086332e-07,  5.60086327e-07, -7.53626748e-06, -7.53626748e-06,\n",
       "         3.09943834e-05,  3.09943834e-05,  6.84525747e-04,  1.11515115e-03,\n",
       "         1.57072656e-03,  8.04984901e-04, -2.26123073e-04, -2.26123073e-04,\n",
       "        -2.26123073e-04, -2.26123073e-04]))"
      ]
     },
     "execution_count": 56,
     "metadata": {},
     "output_type": "execute_result"
    }
   ],
   "source": [
    "lin_reg.intercept_, lin_reg.coef_"
   ]
  },
  {
   "cell_type": "markdown",
   "metadata": {},
   "source": [
    "#### ii. 확률적 경사 하강법을 이용한 선형 회귀\n",
    "- 사이킷런에서 제공하는 SGDRegressor을 이용해 위와 같은 과정을 반복하시오.\n",
    "- 이때 max_iter=1000,tol=1e-3,penalty=None,eta0=0.1 인 옵션을 추가하시오."
   ]
  },
  {
   "cell_type": "code",
   "execution_count": 60,
   "metadata": {},
   "outputs": [],
   "source": [
    "from sklearn.linear_model import SGDRegressor\n",
    "sgd_reg= SGDRegressor(max_iter=1000, tol=1e-3, penalty=None, eta0=0.1)\n",
    "sgd_reg.fit(X_train,y_train)\n",
    "\n",
    "pred_sgd = sgd_reg.predict(X_test)"
   ]
  },
  {
   "cell_type": "code",
   "execution_count": 61,
   "metadata": {},
   "outputs": [
    {
     "data": {
      "text/plain": [
       "421918459498150.2"
      ]
     },
     "execution_count": 61,
     "metadata": {},
     "output_type": "execute_result"
    }
   ],
   "source": [
    "np.sqrt(mean_squared_error(y_test,pred_sgd))"
   ]
  },
  {
   "cell_type": "code",
   "execution_count": 63,
   "metadata": {},
   "outputs": [
    {
     "data": {
      "text/plain": [
       "(array([5.53791975e+11]),\n",
       " array([-2.03813267e+10, -5.53607485e+09, -2.69807896e+11, -3.28997548e+11,\n",
       "         1.63924844e+12,  7.04042637e+11, -1.50250662e+11, -4.39248825e+10,\n",
       "         4.56062374e+11, -2.95668734e+11,  3.84940337e+11, -3.61390339e+11,\n",
       "         7.49429783e+11, -8.81012061e+10, -2.30200248e+11,  1.91856174e+11,\n",
       "         3.68560981e+09, -1.49034288e+11, -6.38626045e+10,  2.74303670e+11,\n",
       "         1.28092047e+11,  2.57485790e+11,  9.90232691e+11,  1.65209567e+11,\n",
       "        -2.21956303e+10, -7.02221780e+10, -2.09519731e+11,  1.95867229e+09,\n",
       "        -7.81035013e+10, -4.62042791e+11,  1.42158949e+11,  2.30366520e+11,\n",
       "        -5.80891774e+11, -1.13331126e+12,  6.04503114e+11, -9.52860451e+10,\n",
       "         2.44314586e+10,  3.86622402e+11, -7.33357276e+10,  4.22754693e+11,\n",
       "         4.55049709e+10, -1.35621305e+11, -1.77653156e+11,  4.19990092e+10,\n",
       "        -8.44813087e+09,  2.28681132e+11, -2.96862401e+11, -3.06189375e+11,\n",
       "         7.31085569e+11,  1.15391941e+12, -2.04002228e+11, -7.19374827e+11,\n",
       "         4.73178934e+11,  3.36427046e+11, -2.19873360e+11, -9.77984891e+11,\n",
       "         1.48790638e+11, -3.25849154e+11, -3.17566629e+11,  4.97034422e+11,\n",
       "         3.85553185e+11, -1.48375854e+11,  8.71775042e+11, -3.17983067e+11,\n",
       "         4.17670354e+10,  5.12024939e+11,  1.16468758e+11,  7.72979781e+11,\n",
       "        -1.26445280e+11, -2.09211283e+11,  9.21178389e+11, -1.91784566e+11,\n",
       "        -2.09257833e+11,  3.36559852e+10]))"
      ]
     },
     "execution_count": 63,
     "metadata": {},
     "output_type": "execute_result"
    }
   ],
   "source": [
    "sgd_reg.intercept_, sgd_reg.coef_"
   ]
  },
  {
   "cell_type": "markdown",
   "metadata": {},
   "source": []
  },
  {
   "cell_type": "markdown",
   "metadata": {},
   "source": []
  }
 ],
 "metadata": {
  "kernelspec": {
   "display_name": "Python 3.9.5 64-bit",
   "language": "python",
   "name": "python3"
  },
  "language_info": {
   "codemirror_mode": {
    "name": "ipython",
    "version": 3
   },
   "file_extension": ".py",
   "mimetype": "text/x-python",
   "name": "python",
   "nbconvert_exporter": "python",
   "pygments_lexer": "ipython3",
   "version": "3.9.5"
  },
  "orig_nbformat": 4,
  "vscode": {
   "interpreter": {
    "hash": "ccf1990b8930000743608e500a892053925309834dda55263717de2095d14f75"
   }
  }
 },
 "nbformat": 4,
 "nbformat_minor": 2
}
