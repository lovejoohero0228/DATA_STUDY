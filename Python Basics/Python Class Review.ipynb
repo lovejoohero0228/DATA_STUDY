{
 "cells": [
  {
   "cell_type": "code",
   "execution_count": 62,
   "id": "3b1ef2bf",
   "metadata": {},
   "outputs": [],
   "source": [
    "class FourCal:\n",
    "    def setdata(self,first,second):\n",
    "        self.first=first\n",
    "        self.second=second\n",
    "    def add(self):\n",
    "        result=self.first+self.second\n",
    "        return result\n",
    "    def sub(self):\n",
    "        result=self.first-self.second\n",
    "        return abs(result)\n",
    "    def mul(self):\n",
    "        result=self.first*self.second\n",
    "        return result\n",
    "    def div(self):\n",
    "        result=self.first/self.second\n",
    "        return result"
   ]
  },
  {
   "cell_type": "code",
   "execution_count": 63,
   "id": "c27dcde7",
   "metadata": {},
   "outputs": [
    {
     "data": {
      "text/plain": [
       "__main__.FourCal"
      ]
     },
     "execution_count": 63,
     "metadata": {},
     "output_type": "execute_result"
    }
   ],
   "source": [
    "a=FourCal()\n",
    "type(a)"
   ]
  },
  {
   "cell_type": "code",
   "execution_count": 64,
   "id": "ca0cf7b1",
   "metadata": {},
   "outputs": [
    {
     "name": "stdout",
     "output_type": "stream",
     "text": [
      "4\n",
      "2\n"
     ]
    }
   ],
   "source": [
    "a.setdata(4,2)\n",
    "print(a.first)\n",
    "print(a.second)"
   ]
  },
  {
   "cell_type": "code",
   "execution_count": 65,
   "id": "530ee18f",
   "metadata": {},
   "outputs": [],
   "source": [
    "a=FourCal()\n",
    "b=FourCal()"
   ]
  },
  {
   "cell_type": "code",
   "execution_count": 66,
   "id": "9e5b905a",
   "metadata": {},
   "outputs": [],
   "source": [
    "a.setdata(4,2)\n",
    "b.setdata(3,7)"
   ]
  },
  {
   "cell_type": "code",
   "execution_count": 67,
   "id": "42bcf020",
   "metadata": {},
   "outputs": [
    {
     "name": "stdout",
     "output_type": "stream",
     "text": [
      "6\n",
      "2\n"
     ]
    }
   ],
   "source": [
    "print(a.add())\n",
    "print(a.sub())"
   ]
  },
  {
   "cell_type": "code",
   "execution_count": 76,
   "id": "1ec021e6",
   "metadata": {},
   "outputs": [],
   "source": [
    "class FourCal:\n",
    "    def __init__(self,first,second):\n",
    "        self.first=first\n",
    "        self.second=second\n",
    "    def setdata(self,first,second):\n",
    "        self.first=first\n",
    "        self.second=second\n",
    "    def add(self):\n",
    "        result=self.first+self.second\n",
    "        return result\n",
    "    def sub(self):\n",
    "        result=self.first-self.second\n",
    "        return abs(result)\n",
    "    def mul(self):\n",
    "        result=self.first*self.second\n",
    "        return result\n",
    "    def div(self):\n",
    "        result=self.first/self.second\n",
    "        return result"
   ]
  },
  {
   "cell_type": "code",
   "execution_count": 78,
   "id": "e965c3fa",
   "metadata": {},
   "outputs": [
    {
     "data": {
      "text/plain": [
       "6"
      ]
     },
     "execution_count": 78,
     "metadata": {},
     "output_type": "execute_result"
    }
   ],
   "source": [
    "a=FourCal(4,2)\n",
    "a.add()"
   ]
  },
  {
   "cell_type": "code",
   "execution_count": 82,
   "id": "a60dbc2b",
   "metadata": {},
   "outputs": [],
   "source": [
    "class MoreFourCal(FourCal):\n",
    "    def pow(self):\n",
    "        result=self.first**self.second\n",
    "        return result"
   ]
  },
  {
   "cell_type": "code",
   "execution_count": 84,
   "id": "16dbf3d5",
   "metadata": {},
   "outputs": [
    {
     "data": {
      "text/plain": [
       "64"
      ]
     },
     "execution_count": 84,
     "metadata": {},
     "output_type": "execute_result"
    }
   ],
   "source": [
    "a=MoreFourCal(4,3)\n",
    "a.pow()"
   ]
  },
  {
   "cell_type": "code",
   "execution_count": 86,
   "id": "eec054d2",
   "metadata": {},
   "outputs": [],
   "source": [
    "class SafeFourCal(MoreFourCal):\n",
    "    def div(self):\n",
    "        if self.second==0:\n",
    "            return 0\n",
    "        else:\n",
    "            return self.first/self.second"
   ]
  },
  {
   "cell_type": "code",
   "execution_count": 91,
   "id": "cf258056",
   "metadata": {
    "scrolled": true
   },
   "outputs": [
    {
     "ename": "ZeroDivisionError",
     "evalue": "division by zero",
     "output_type": "error",
     "traceback": [
      "\u001b[1;31m---------------------------------------------------------------------------\u001b[0m",
      "\u001b[1;31mZeroDivisionError\u001b[0m                         Traceback (most recent call last)",
      "Input \u001b[1;32mIn [91]\u001b[0m, in \u001b[0;36m<cell line: 2>\u001b[1;34m()\u001b[0m\n\u001b[0;32m      1\u001b[0m a\u001b[38;5;241m=\u001b[39mMoreFourCal(\u001b[38;5;241m4\u001b[39m,\u001b[38;5;241m0\u001b[39m)\n\u001b[1;32m----> 2\u001b[0m \u001b[43ma\u001b[49m\u001b[38;5;241;43m.\u001b[39;49m\u001b[43mdiv\u001b[49m\u001b[43m(\u001b[49m\u001b[43m)\u001b[49m\n",
      "Input \u001b[1;32mIn [76]\u001b[0m, in \u001b[0;36mFourCal.div\u001b[1;34m(self)\u001b[0m\n\u001b[0;32m     17\u001b[0m \u001b[38;5;28;01mdef\u001b[39;00m \u001b[38;5;21mdiv\u001b[39m(\u001b[38;5;28mself\u001b[39m):\n\u001b[1;32m---> 18\u001b[0m     result\u001b[38;5;241m=\u001b[39m\u001b[38;5;28;43mself\u001b[39;49m\u001b[38;5;241;43m.\u001b[39;49m\u001b[43mfirst\u001b[49m\u001b[38;5;241;43m/\u001b[39;49m\u001b[38;5;28;43mself\u001b[39;49m\u001b[38;5;241;43m.\u001b[39;49m\u001b[43msecond\u001b[49m\n\u001b[0;32m     19\u001b[0m     \u001b[38;5;28;01mreturn\u001b[39;00m result\n",
      "\u001b[1;31mZeroDivisionError\u001b[0m: division by zero"
     ]
    }
   ],
   "source": [
    "a=MoreFourCal(4,0)\n",
    "a.div()"
   ]
  },
  {
   "cell_type": "code",
   "execution_count": null,
   "id": "35f5f4b1",
   "metadata": {},
   "outputs": [],
   "source": [
    "a=SafeFourCal(4,0)\n",
    "a.div()"
   ]
  },
  {
   "cell_type": "code",
   "execution_count": 1,
   "id": "00c00d3a",
   "metadata": {},
   "outputs": [],
   "source": [
    "class Family:\n",
    "    lastname='최'"
   ]
  },
  {
   "cell_type": "code",
   "execution_count": 2,
   "id": "5d8e6645",
   "metadata": {},
   "outputs": [
    {
     "name": "stdout",
     "output_type": "stream",
     "text": [
      "최\n"
     ]
    }
   ],
   "source": [
    "print(Family.lastname)"
   ]
  },
  {
   "cell_type": "code",
   "execution_count": 3,
   "id": "21ba8177",
   "metadata": {},
   "outputs": [
    {
     "name": "stdout",
     "output_type": "stream",
     "text": [
      "최\n",
      "최\n"
     ]
    }
   ],
   "source": [
    "a=Family()\n",
    "b=Family()\n",
    "print(a.lastname)\n",
    "print(b.lastname)"
   ]
  },
  {
   "cell_type": "code",
   "execution_count": null,
   "id": "781f33b3",
   "metadata": {},
   "outputs": [],
   "source": []
  }
 ],
 "metadata": {
  "kernelspec": {
   "display_name": "Python 3 (ipykernel)",
   "language": "python",
   "name": "python3"
  },
  "language_info": {
   "codemirror_mode": {
    "name": "ipython",
    "version": 3
   },
   "file_extension": ".py",
   "mimetype": "text/x-python",
   "name": "python",
   "nbconvert_exporter": "python",
   "pygments_lexer": "ipython3",
   "version": "3.9.12"
  }
 },
 "nbformat": 4,
 "nbformat_minor": 5
}
