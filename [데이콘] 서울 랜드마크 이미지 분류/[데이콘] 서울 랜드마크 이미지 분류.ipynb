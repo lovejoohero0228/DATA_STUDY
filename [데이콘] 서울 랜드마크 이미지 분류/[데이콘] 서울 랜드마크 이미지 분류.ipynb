{
 "cells": [
  {
   "cell_type": "markdown",
   "id": "4e8d2bc5",
   "metadata": {},
   "source": [
    "# 데이콘 Basic Summer\n",
    "## 서울 랜드마크 이미지 분류 경진대회"
   ]
  },
  {
   "cell_type": "markdown",
   "id": "d85fe1ad",
   "metadata": {},
   "source": [
    "\n",
    "# I. 데이터 살펴보기"
   ]
  },
  {
   "cell_type": "markdown",
   "id": "d240209b",
   "metadata": {},
   "source": [
    "## 1. 데이터 준비\n",
    "### 1.1 csv 데이터"
   ]
  },
  {
   "cell_type": "code",
   "execution_count": 2,
   "id": "656b1b27",
   "metadata": {},
   "outputs": [
    {
     "data": {
      "text/html": [
       "<div>\n",
       "<style scoped>\n",
       "    .dataframe tbody tr th:only-of-type {\n",
       "        vertical-align: middle;\n",
       "    }\n",
       "\n",
       "    .dataframe tbody tr th {\n",
       "        vertical-align: top;\n",
       "    }\n",
       "\n",
       "    .dataframe thead th {\n",
       "        text-align: right;\n",
       "    }\n",
       "</style>\n",
       "<table border=\"1\" class=\"dataframe\">\n",
       "  <thead>\n",
       "    <tr style=\"text-align: right;\">\n",
       "      <th></th>\n",
       "      <th>file_name</th>\n",
       "      <th>label</th>\n",
       "    </tr>\n",
       "  </thead>\n",
       "  <tbody>\n",
       "    <tr>\n",
       "      <th>0</th>\n",
       "      <td>001.PNG</td>\n",
       "      <td>9</td>\n",
       "    </tr>\n",
       "    <tr>\n",
       "      <th>1</th>\n",
       "      <td>002.PNG</td>\n",
       "      <td>4</td>\n",
       "    </tr>\n",
       "    <tr>\n",
       "      <th>2</th>\n",
       "      <td>003.PNG</td>\n",
       "      <td>1</td>\n",
       "    </tr>\n",
       "    <tr>\n",
       "      <th>3</th>\n",
       "      <td>004.PNG</td>\n",
       "      <td>1</td>\n",
       "    </tr>\n",
       "    <tr>\n",
       "      <th>4</th>\n",
       "      <td>005.PNG</td>\n",
       "      <td>6</td>\n",
       "    </tr>\n",
       "  </tbody>\n",
       "</table>\n",
       "</div>"
      ],
      "text/plain": [
       "  file_name  label\n",
       "0   001.PNG      9\n",
       "1   002.PNG      4\n",
       "2   003.PNG      1\n",
       "3   004.PNG      1\n",
       "4   005.PNG      6"
      ]
     },
     "execution_count": 2,
     "metadata": {},
     "output_type": "execute_result"
    }
   ],
   "source": [
    "# pandas 사용하여 데이터 불러오기\n",
    "\n",
    "import pandas as pd\n",
    "label_df = pd.read_csv('dataset/train.csv')\n",
    "label_df.head()"
   ]
  },
  {
   "cell_type": "markdown",
   "id": "c4463066",
   "metadata": {},
   "source": [
    "### 1.2 이미지 데이터\n",
    "\n",
    "데이터 이미지의 local address와 label 값을 list에 저장"
   ]
  },
  {
   "cell_type": "code",
   "execution_count": 3,
   "id": "18417f67",
   "metadata": {},
   "outputs": [],
   "source": [
    "import os\n",
    "from glob import glob\n",
    "# CNN 모델에서 꼭 필요한 두가지 모듈\n",
    "# 'glob' : 파일의 경로명을 리스트로 뽑을 때 사용\n",
    "\n",
    "def get_train_data(data_dir):\n",
    "    img_path_list = []\n",
    "    label_list = []\n",
    "    \n",
    "    # get image path\n",
    "    img_path_list.extend(glob(os.path.join(data_dir,'*.PNG')))\n",
    "    img_path_list = list(map(lambda x: x.replace('\\\\','/', 10), img_path_list))\n",
    "    img_path_list.sort(key=lambda x:int(x.split('/')[-1].split('.')[0]))\n",
    "\n",
    "    # get label\n",
    "    label_list.extend(label_df['label'])\n",
    "    \n",
    "    #print(img_path_list)\n",
    "    #print(label_list)\n",
    "    \n",
    "    return img_path_list,label_list\n",
    "\n",
    "def get_test_data(data_dir):\n",
    "    img_path_list = []\n",
    "    \n",
    "    # get image path\n",
    "    img_path_list.extend(glob(os.path.join(data_dir,'*.PNG')))\n",
    "    img_path_list = list(map(lambda x: x.replace('\\\\','/', 10), img_path_list))\n",
    "    img_path_list.sort(key=lambda x: int(x.split('/')[-1].split('.')[0]))\n",
    "    #print(img_path_list)\n",
    "    \n",
    "    return img_path_list"
   ]
  },
  {
   "cell_type": "markdown",
   "id": "1c052bc5",
   "metadata": {},
   "source": [
    "## 2. 데이터 확인\n",
    "### 2.1. csv 데이터\n",
    "\n",
    "pandas의 `info()` 메소드 활용하여 데이터의 특성 살펴보기"
   ]
  },
  {
   "cell_type": "code",
   "execution_count": 4,
   "id": "339c9099",
   "metadata": {},
   "outputs": [
    {
     "name": "stdout",
     "output_type": "stream",
     "text": [
      "<class 'pandas.core.frame.DataFrame'>\n",
      "RangeIndex: 723 entries, 0 to 722\n",
      "Data columns (total 2 columns):\n",
      " #   Column     Non-Null Count  Dtype \n",
      "---  ------     --------------  ----- \n",
      " 0   file_name  723 non-null    object\n",
      " 1   label      723 non-null    int64 \n",
      "dtypes: int64(1), object(1)\n",
      "memory usage: 11.4+ KB\n"
     ]
    }
   ],
   "source": [
    "label_df.info()"
   ]
  },
  {
   "cell_type": "markdown",
   "id": "280e7c62",
   "metadata": {},
   "source": [
    "### 2.2. 이미지 데이터"
   ]
  },
  {
   "cell_type": "code",
   "execution_count": 5,
   "id": "f6f29d98",
   "metadata": {},
   "outputs": [],
   "source": [
    "all_img_path, all_label = get_train_data('dataset/train')\n",
    "test_img_path = get_test_data('dataset/test')\n",
    "\n",
    "#['dataset/train/001.PNG',\n",
    "#['dataset/train\\\\001.PNG',"
   ]
  },
  {
   "cell_type": "code",
   "execution_count": 6,
   "id": "2f107609",
   "metadata": {},
   "outputs": [
    {
     "data": {
      "text/plain": [
       "[9, 4, 1, 1, 6]"
      ]
     },
     "execution_count": 6,
     "metadata": {},
     "output_type": "execute_result"
    }
   ],
   "source": [
    "all_label[:5]"
   ]
  },
  {
   "cell_type": "code",
   "execution_count": 7,
   "id": "72c72c6e",
   "metadata": {},
   "outputs": [
    {
     "data": {
      "text/plain": [
       "['dataset/train/001.PNG',\n",
       " 'dataset/train/002.PNG',\n",
       " 'dataset/train/003.PNG',\n",
       " 'dataset/train/004.PNG',\n",
       " 'dataset/train/005.PNG']"
      ]
     },
     "execution_count": 7,
     "metadata": {},
     "output_type": "execute_result"
    }
   ],
   "source": [
    "all_img_path[:5]"
   ]
  },
  {
   "cell_type": "code",
   "execution_count": 8,
   "id": "fb07a324",
   "metadata": {},
   "outputs": [
    {
     "data": {
      "text/plain": [
       "['dataset/test/001.PNG',\n",
       " 'dataset/test/002.PNG',\n",
       " 'dataset/test/003.PNG',\n",
       " 'dataset/test/004.PNG',\n",
       " 'dataset/test/005.PNG']"
      ]
     },
     "execution_count": 8,
     "metadata": {},
     "output_type": "execute_result"
    }
   ],
   "source": [
    "test_img_path[:5]"
   ]
  },
  {
   "cell_type": "markdown",
   "id": "0b2aa759",
   "metadata": {},
   "source": [
    "## 3. 환경설정\n",
    "데이터를 전처리 하기위함 GPU 딥러닝 환경설정"
   ]
  },
  {
   "cell_type": "code",
   "execution_count": 9,
   "id": "049d8513",
   "metadata": {
    "scrolled": true
   },
   "outputs": [],
   "source": [
    "import torch\n",
    "import torch.nn as nn\n",
    "\n",
    "os.environ[\"TOKENIZERS_PARALLELISM\"] = \"false\"\n",
    "os.environ[\"CUDA_DEVISE_ORDER\"] = \"PCI_BUS_ID\"  # rrange GPU devices starting from 0\n",
    "os.environ[\"CUDA_VISIBLE_DEVICES\"] = \"2\"  # Set the GPU 2 to use, 멀티 GPU\n",
    "\n",
    "device = torch.device('cuda') if torch.cuda.is_available() else torch.device('cpu')"
   ]
  },
  {
   "cell_type": "code",
   "execution_count": 10,
   "id": "02c2c738",
   "metadata": {},
   "outputs": [
    {
     "data": {
      "text/plain": [
       "False"
      ]
     },
     "execution_count": 10,
     "metadata": {},
     "output_type": "execute_result"
    }
   ],
   "source": [
    "torch.cuda.is_available()"
   ]
  },
  {
   "cell_type": "code",
   "execution_count": 11,
   "id": "6a091865",
   "metadata": {},
   "outputs": [
    {
     "name": "stdout",
     "output_type": "stream",
     "text": [
      "No GPU availavle, using the CPU instead.\n"
     ]
    }
   ],
   "source": [
    "# GPU 체크 및 할당\n",
    "\n",
    "if torch.cuda.is_available():\n",
    "    #device = torch.device(\"cuda:0\")\n",
    "    print(\"Device:\",device)\n",
    "    print(\"There are %d GPU(s) available\"%torch.cuda.device_count())\n",
    "    print(\"We will use the GPU:\",torch.cuda.get_device_name(0))\n",
    "else:\n",
    "    device = torch.device(\"cpu\")\n",
    "    print(\"No GPU availavle, using the CPU instead.\")"
   ]
  },
  {
   "cell_type": "markdown",
   "id": "d72885be",
   "metadata": {},
   "source": [
    "# 똥컴이라 안됨"
   ]
  },
  {
   "cell_type": "code",
   "execution_count": 12,
   "id": "0be6278b",
   "metadata": {},
   "outputs": [
    {
     "name": "stdout",
     "output_type": "stream",
     "text": [
      "1.12.1\n",
      "False\n"
     ]
    }
   ],
   "source": [
    "import torch\n",
    "\n",
    "print(torch.__version__)\n",
    "print(torch.cuda.is_available())"
   ]
  },
  {
   "cell_type": "code",
   "execution_count": 13,
   "id": "feac0c85",
   "metadata": {},
   "outputs": [],
   "source": [
    "# 하이퍼 파라미터 튜닝\n",
    "CFG = {\n",
    "    'IMG_SIZE':128, # 이미지 사이즈\n",
    "    'EPOCHS':50, # 에포크 - 전체 데이터를 사용하여 학습하는 횟수\n",
    "    'LEARNING_RATE':2e-2, # 학습률\n",
    "    'BATCH_SIZE':12, #배치사이즈\n",
    "    'SEED':41, #시드\n",
    "}"
   ]
  },
  {
   "cell_type": "code",
   "execution_count": 14,
   "id": "3265226a",
   "metadata": {},
   "outputs": [],
   "source": [
    "# 모델의 재현성을 위해 random seed 고정\n",
    "\n",
    "import random\n",
    "import numpy as np\n",
    "\n",
    "def seed_everything(seed):\n",
    "    random.seed(seed)\n",
    "    os.environ['PYTHONHASHSEED'] = str(seed)\n",
    "    np.random.seed(seed)\n",
    "    torch.manual_seed(seed)\n",
    "    torch.cuda.manual_seed(seed)\n",
    "    #torch.bakcends.cudnn.deterministic = True\n",
    "    #torch.backends cudnn benchmark = True\n",
    "    \n",
    "seed_everything(CFG['SEED'])"
   ]
  },
  {
   "cell_type": "markdown",
   "id": "67a42912",
   "metadata": {},
   "source": [
    "# II. 데이터 전처리\n",
    "## 2. CustomDataset\n",
    "CustomDataset을 만들어 전체 dataset을 구성"
   ]
  },
  {
   "cell_type": "code",
   "execution_count": 23,
   "id": "8e5be548",
   "metadata": {},
   "outputs": [],
   "source": [
    "import torchvision.datasets as datasets  # 이미지 데이터셋 집합체\n",
    "import torchvision.transforms as transforms  # 이미지 변환 툴 - 텐서 변환, 이미지 정규화...\n",
    "\n",
    "from torch.utils.data import DataLoader  # 학습 및 배치로 모델에 넣어주기 위한 툴\n",
    "from torch.utils.data import DataLoader, Dataset\n",
    "\n",
    "import cv2   # 이미지 출력하고, 저장하고, 새 윈도우에 보여주고 등등\n",
    "\n",
    "class CustomDataset(Dataset):\n",
    "    #필요한 변수 선언\n",
    "    def __init__(self,img_path_list,label_list,train_mode = True, transforms = None):\n",
    "        self.transforms = transforms\n",
    "        self.train_mode = train_mode\n",
    "        self.img_path_list = img_path_list\n",
    "        self.label_list = label_list\n",
    "    \n",
    "    # index번째 data를 return\n",
    "    def __getitem__(self,index):\n",
    "        img_path = self.img_path_list[index]  # 이미지 파일 경로\n",
    "        print(img_path)\n",
    "        \n",
    "        # Get image data\n",
    "        image = cv2.imread(img_path)  # 이미지 파일\n",
    "        if self.transforms is not None:   # transfrom 형태가 주어지면 transfrom하여 저장\n",
    "            image = self.transforms(image)\n",
    "            \n",
    "        if self.train_mode:\n",
    "            label = self.label_list[index]\n",
    "            return image, label\n",
    "        else:\n",
    "            return image\n",
    "        \n",
    "    def __len__(self):  # 길이 출력\n",
    "        return len(self.img_path_list)\n",
    "            "
   ]
  },
  {
   "cell_type": "code",
   "execution_count": 24,
   "id": "f0118ed3",
   "metadata": {},
   "outputs": [],
   "source": [
    "# 임시 데이터셋 만들어 정상 작동하는지 확인\n",
    "tempdataset = CustomDataset(all_img_path, all_label,train_mode = False)"
   ]
  },
  {
   "cell_type": "code",
   "execution_count": 25,
   "id": "5ad03f82",
   "metadata": {},
   "outputs": [],
   "source": [
    "import matplotlib.pyplot as plt\n",
    "\n",
    "#plt.imshow(tempdataset.__getitem__(0))"
   ]
  },
  {
   "cell_type": "markdown",
   "id": "28ed4df6",
   "metadata": {},
   "source": [
    "# Kernal Died ?? Prolly GPU 사용 못해서 메모리 사용량 과다로 죽은듯"
   ]
  },
  {
   "cell_type": "markdown",
   "id": "e369a788",
   "metadata": {},
   "source": [
    "## 3. Train / Validation Split\n",
    "\n",
    "학습시킬 데이터셋과 검증할 데이터셋 분리!"
   ]
  },
  {
   "cell_type": "code",
   "execution_count": 31,
   "id": "0379b35b",
   "metadata": {},
   "outputs": [],
   "source": [
    "# Train : Validation = 0.75: 0.25 Split\n",
    "\n",
    "train_len = int(len(all_img_path)*0.75)\n",
    "Vali_len = int(len(all_img_path)*0.25)\n",
    "\n",
    "train_img_path = all_img_path[:train_len]\n",
    "train_label = all_label[:train_len]\n",
    "\n",
    "vali_img_path = all_img_path[train_len:]\n",
    "vali_label = all_label[train_len:]"
   ]
  },
  {
   "cell_type": "code",
   "execution_count": 27,
   "id": "e9d0e823",
   "metadata": {},
   "outputs": [
    {
     "name": "stdout",
     "output_type": "stream",
     "text": [
      "train set 길이: 542\n",
      "validation set 길이: 180\n"
     ]
    }
   ],
   "source": [
    "print(\"train set 길이:\", train_len)\n",
    "print(\"validation set 길이:\", Vali_len)"
   ]
  },
  {
   "cell_type": "markdown",
   "id": "79f59075",
   "metadata": {},
   "source": [
    "## 4. Transfrom\n",
    "\n",
    "나뉜 데이터셋에서 이미지를 분석하기 위해 이미지 변형(transform) 적용"
   ]
  },
  {
   "cell_type": "code",
   "execution_count": 30,
   "id": "2ecb8c7e",
   "metadata": {},
   "outputs": [],
   "source": [
    "train_transform = transforms.Compose([\n",
    "    transforms.ToPILImage(),  # Numpy 배열에서 PIL 이미지로 변형\n",
    "    transforms.Resize([CFG['IMG_SIZE'],CFG['IMG_SIZE']]), # 이미지 사이즈 변형\n",
    "    transforms.ToTensor(), #이미지 데이터를 tensor\n",
    "    transforms.Normalize(mean= (0.5,0.5,0.5),std = (0.5,0.5,0.5)) # 이미지 정규화\n",
    "])\n",
    "\n",
    "test_transform = transforms.Compose([\n",
    "    transforms.ToPILImage(),\n",
    "    transforms.Resize([CFG['IMG_SIZE'], CFG['IMG_SIZE']]),\\\n",
    "    transforms.ToTensor(),\n",
    "    transforms.Normalize(mean =(0.5,0.5,0.5),std = (0.5,0.5,0.5))\n",
    "])"
   ]
  },
  {
   "cell_type": "markdown",
   "id": "25f3bcda",
   "metadata": {},
   "source": [
    "## 5. Dataloader\n",
    "- `Dataloader` Class 생성: batch 기반 딥러닝모델 학습을 위해 mini batch를 만들어주는 역할\n",
    "\n",
    "- dataset의 전체 데이터가 batch size로 나뉨\n",
    "\n",
    "- 만들었던 dataset을 input으로 넣어주면 여러 옵션(데이터 묶기, 섞기, 알아서 병렬처리)를 통해 batch 생성"
   ]
  },
  {
   "cell_type": "code",
   "execution_count": null,
   "id": "429d00c7",
   "metadata": {},
   "outputs": [],
   "source": [
    "# Get Dataloader\n",
    "\n",
    "# CustomDataset class를 통하여 train dataset 생성\n",
    "train_dataset = CustomDataset(train_img_path, train_label, train_mode = True, transforms = train_transform)\n",
    "# 만든 train dataset를 DataLoader에 넣어 batch 만들기\n",
    "train_loader = DataLoader(train_dataset,batch_size = CFG['BATCH_SIZE'],shuffle=True, num_workers =0)\n",
    "\n",
    "# Validation 에서도 적용\n",
    "vali_dataset = CustomDataset(vali_img_path, vali_label, train_mode = True, transforms = test_transform)\n",
    "vali_loader = DataLoader(vali_dataset,batch_size = CFG['BATCH_SIZE'],shuffle=True, num_workers =0)\n"
   ]
  }
 ],
 "metadata": {
  "kernelspec": {
   "display_name": "Python 3 (ipykernel)",
   "language": "python",
   "name": "python3"
  },
  "language_info": {
   "codemirror_mode": {
    "name": "ipython",
    "version": 3
   },
   "file_extension": ".py",
   "mimetype": "text/x-python",
   "name": "python",
   "nbconvert_exporter": "python",
   "pygments_lexer": "ipython3",
   "version": "3.9.12"
  }
 },
 "nbformat": 4,
 "nbformat_minor": 5
}
