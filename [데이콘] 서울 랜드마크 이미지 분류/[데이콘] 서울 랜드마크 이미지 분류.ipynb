{
 "cells": [
  {
   "cell_type": "markdown",
   "id": "4e8d2bc5",
   "metadata": {},
   "source": [
    "# 데이콘 Basic Summer\n",
    "## 서울 랜드마크 이미지 분류 경진대회"
   ]
  },
  {
   "cell_type": "markdown",
   "id": "d85fe1ad",
   "metadata": {},
   "source": [
    "\n",
    "# I. 데이터 살펴보기"
   ]
  },
  {
   "cell_type": "markdown",
   "id": "d240209b",
   "metadata": {},
   "source": [
    "## 1. 데이터 준비\n",
    "### 1.1 csv 데이터"
   ]
  },
  {
   "cell_type": "code",
   "execution_count": 1,
   "id": "656b1b27",
   "metadata": {},
   "outputs": [
    {
     "data": {
      "text/html": [
       "<div>\n",
       "<style scoped>\n",
       "    .dataframe tbody tr th:only-of-type {\n",
       "        vertical-align: middle;\n",
       "    }\n",
       "\n",
       "    .dataframe tbody tr th {\n",
       "        vertical-align: top;\n",
       "    }\n",
       "\n",
       "    .dataframe thead th {\n",
       "        text-align: right;\n",
       "    }\n",
       "</style>\n",
       "<table border=\"1\" class=\"dataframe\">\n",
       "  <thead>\n",
       "    <tr style=\"text-align: right;\">\n",
       "      <th></th>\n",
       "      <th>file_name</th>\n",
       "      <th>label</th>\n",
       "    </tr>\n",
       "  </thead>\n",
       "  <tbody>\n",
       "    <tr>\n",
       "      <th>0</th>\n",
       "      <td>001.PNG</td>\n",
       "      <td>9</td>\n",
       "    </tr>\n",
       "    <tr>\n",
       "      <th>1</th>\n",
       "      <td>002.PNG</td>\n",
       "      <td>4</td>\n",
       "    </tr>\n",
       "    <tr>\n",
       "      <th>2</th>\n",
       "      <td>003.PNG</td>\n",
       "      <td>1</td>\n",
       "    </tr>\n",
       "    <tr>\n",
       "      <th>3</th>\n",
       "      <td>004.PNG</td>\n",
       "      <td>1</td>\n",
       "    </tr>\n",
       "    <tr>\n",
       "      <th>4</th>\n",
       "      <td>005.PNG</td>\n",
       "      <td>6</td>\n",
       "    </tr>\n",
       "  </tbody>\n",
       "</table>\n",
       "</div>"
      ],
      "text/plain": [
       "  file_name  label\n",
       "0   001.PNG      9\n",
       "1   002.PNG      4\n",
       "2   003.PNG      1\n",
       "3   004.PNG      1\n",
       "4   005.PNG      6"
      ]
     },
     "execution_count": 1,
     "metadata": {},
     "output_type": "execute_result"
    }
   ],
   "source": [
    "# pandas 사용하여 데이터 불러오기\n",
    "\n",
    "import pandas as pd\n",
    "label_df = pd.read_csv('dataset/train.csv')\n",
    "label_df.head()"
   ]
  },
  {
   "cell_type": "markdown",
   "id": "c4463066",
   "metadata": {},
   "source": [
    "### 1.2 이미지 데이터\n",
    "\n",
    "데이터 이미지의 local address와 label 값을 list에 저장"
   ]
  },
  {
   "cell_type": "code",
   "execution_count": 2,
   "id": "18417f67",
   "metadata": {},
   "outputs": [],
   "source": [
    "import os\n",
    "from glob import glob\n",
    "# CNN 모델에서 꼭 필요한 두가지 모듈\n",
    "# 'glob' : 파일의 경로명을 리스트로 뽑을 때 사용\n",
    "\n",
    "def get_train_data(data_dir):\n",
    "    img_path_list = []\n",
    "    label_list = []\n",
    "    \n",
    "    # get image path\n",
    "    img_path_list.extend(glob(os.path.join(data_dir,'*.PNG')))\n",
    "    img_path_list = list(map(lambda x: x.replace('\\\\','/', 10), img_path_list))\n",
    "    img_path_list.sort(key=lambda x:int(x.split('/')[-1].split('.')[0]))\n",
    "\n",
    "    # get label\n",
    "    label_list.extend(label_df['label'])\n",
    "    \n",
    "    #print(img_path_list)\n",
    "    #print(label_list)\n",
    "    \n",
    "    return img_path_list,label_list\n",
    "\n",
    "def get_test_data(data_dir):\n",
    "    img_path_list = []\n",
    "    \n",
    "    # get image path\n",
    "    img_path_list.extend(glob(os.path.join(data_dir,'*.PNG')))\n",
    "    img_path_list = list(map(lambda x: x.replace('\\\\','/', 10), img_path_list))\n",
    "    img_path_list.sort(key=lambda x: int(x.split('/')[-1].split('.')[0]))\n",
    "    #print(img_path_list)\n",
    "    \n",
    "    return img_path_list"
   ]
  },
  {
   "cell_type": "markdown",
   "id": "1c052bc5",
   "metadata": {},
   "source": [
    "## 2. 데이터 확인\n",
    "### 2.1. csv 데이터\n",
    "\n",
    "pandas의 `info()` 메소드 활용하여 데이터의 특성 살펴보기"
   ]
  },
  {
   "cell_type": "code",
   "execution_count": 3,
   "id": "339c9099",
   "metadata": {},
   "outputs": [
    {
     "name": "stdout",
     "output_type": "stream",
     "text": [
      "<class 'pandas.core.frame.DataFrame'>\n",
      "RangeIndex: 723 entries, 0 to 722\n",
      "Data columns (total 2 columns):\n",
      " #   Column     Non-Null Count  Dtype \n",
      "---  ------     --------------  ----- \n",
      " 0   file_name  723 non-null    object\n",
      " 1   label      723 non-null    int64 \n",
      "dtypes: int64(1), object(1)\n",
      "memory usage: 11.4+ KB\n"
     ]
    }
   ],
   "source": [
    "label_df.info()"
   ]
  },
  {
   "cell_type": "markdown",
   "id": "280e7c62",
   "metadata": {},
   "source": [
    "### 2.2. 이미지 데이터"
   ]
  },
  {
   "cell_type": "code",
   "execution_count": 4,
   "id": "f6f29d98",
   "metadata": {},
   "outputs": [],
   "source": [
    "all_img_path, all_label = get_train_data('dataset/train')\n",
    "test_img_path = get_test_data('dataset/test')\n",
    "\n",
    "#['dataset/train/001.PNG',\n",
    "#['dataset/train\\\\001.PNG',"
   ]
  },
  {
   "cell_type": "code",
   "execution_count": 5,
   "id": "2f107609",
   "metadata": {},
   "outputs": [
    {
     "data": {
      "text/plain": [
       "[9, 4, 1, 1, 6]"
      ]
     },
     "execution_count": 5,
     "metadata": {},
     "output_type": "execute_result"
    }
   ],
   "source": [
    "all_label[:5]"
   ]
  },
  {
   "cell_type": "code",
   "execution_count": 6,
   "id": "72c72c6e",
   "metadata": {},
   "outputs": [
    {
     "data": {
      "text/plain": [
       "['dataset/train/001.PNG',\n",
       " 'dataset/train/002.PNG',\n",
       " 'dataset/train/003.PNG',\n",
       " 'dataset/train/004.PNG',\n",
       " 'dataset/train/005.PNG']"
      ]
     },
     "execution_count": 6,
     "metadata": {},
     "output_type": "execute_result"
    }
   ],
   "source": [
    "all_img_path[:5]"
   ]
  },
  {
   "cell_type": "code",
   "execution_count": 7,
   "id": "fb07a324",
   "metadata": {},
   "outputs": [
    {
     "data": {
      "text/plain": [
       "['dataset/test/001.PNG',\n",
       " 'dataset/test/002.PNG',\n",
       " 'dataset/test/003.PNG',\n",
       " 'dataset/test/004.PNG',\n",
       " 'dataset/test/005.PNG']"
      ]
     },
     "execution_count": 7,
     "metadata": {},
     "output_type": "execute_result"
    }
   ],
   "source": [
    "test_img_path[:5]"
   ]
  },
  {
   "cell_type": "markdown",
   "id": "0b2aa759",
   "metadata": {},
   "source": [
    "## 3. 환경설정\n",
    "데이터를 전처리 하기위함 GPU 딥러닝 환경설정"
   ]
  },
  {
   "cell_type": "code",
   "execution_count": 8,
   "id": "049d8513",
   "metadata": {
    "scrolled": true
   },
   "outputs": [],
   "source": [
    "import torch\n",
    "import torch.nn as nn\n",
    "\n",
    "os.environ[\"TOKENIZERS_PARALLELISM\"] = \"false\"\n",
    "os.environ[\"CUDA_DEVISE_ORDER\"] = \"PCI_BUS_ID\"  # rrange GPU devices starting from 0\n",
    "os.environ[\"CUDA_VISIBLE_DEVICES\"] = \"2\"  # Set the GPU 2 to use, 멀티 GPU\n",
    "\n",
    "device = torch.device('cuda') if torch.cuda.is_available() else torch.device('cpu')"
   ]
  },
  {
   "cell_type": "code",
   "execution_count": 9,
   "id": "02c2c738",
   "metadata": {},
   "outputs": [
    {
     "data": {
      "text/plain": [
       "False"
      ]
     },
     "execution_count": 9,
     "metadata": {},
     "output_type": "execute_result"
    }
   ],
   "source": [
    "torch.cuda.is_available()"
   ]
  },
  {
   "cell_type": "code",
   "execution_count": 10,
   "id": "6a091865",
   "metadata": {},
   "outputs": [
    {
     "name": "stdout",
     "output_type": "stream",
     "text": [
      "No GPU availavle, using the CPU instead.\n"
     ]
    }
   ],
   "source": [
    "# GPU 체크 및 할당\n",
    "\n",
    "if torch.cuda.is_available():\n",
    "    #device = torch.device(\"cuda:0\")\n",
    "    print(\"Device:\",device)\n",
    "    print(\"There are %d GPU(s) available\"%torch.cuda.device_count())\n",
    "    print(\"We will use the GPU:\",torch.cuda.get_device_name(0))\n",
    "else:\n",
    "    device = torch.device(\"cpu\")\n",
    "    print(\"No GPU availavle, using the CPU instead.\")"
   ]
  },
  {
   "cell_type": "markdown",
   "id": "d72885be",
   "metadata": {},
   "source": [
    "# 똥컴이라 안됨"
   ]
  },
  {
   "cell_type": "code",
   "execution_count": 11,
   "id": "0be6278b",
   "metadata": {},
   "outputs": [
    {
     "name": "stdout",
     "output_type": "stream",
     "text": [
      "1.12.1\n",
      "False\n"
     ]
    }
   ],
   "source": [
    "import torch\n",
    "\n",
    "print(torch.__version__)\n",
    "print(torch.cuda.is_available())"
   ]
  },
  {
   "cell_type": "code",
   "execution_count": 12,
   "id": "feac0c85",
   "metadata": {},
   "outputs": [],
   "source": [
    "# 하이퍼 파라미터 튜닝\n",
    "CFG = {\n",
    "    'IMG_SIZE':128, # 이미지 사이즈\n",
    "    'EPOCHS':50, # 에포크 - 전체 데이터를 사용하여 학습하는 횟수\n",
    "    'LEARNING_RATE':2e-2, # 학습률\n",
    "    'BATCH_SIZE':12, #배치사이즈\n",
    "    'SEED':41, #시드\n",
    "}"
   ]
  },
  {
   "cell_type": "code",
   "execution_count": 13,
   "id": "3265226a",
   "metadata": {},
   "outputs": [],
   "source": [
    "# 모델의 재현성을 위해 random seed 고정\n",
    "\n",
    "import random\n",
    "import numpy as np\n",
    "\n",
    "def seed_everything(seed):\n",
    "    random.seed(seed)\n",
    "    os.environ['PYTHONHASHSEED'] = str(seed)\n",
    "    np.random.seed(seed)\n",
    "    torch.manual_seed(seed)\n",
    "    torch.cuda.manual_seed(seed)\n",
    "    #torch.bakcends.cudnn.deterministic = True\n",
    "    #torch.backends cudnn benchmark = True\n",
    "    \n",
    "seed_everything(CFG['SEED'])"
   ]
  },
  {
   "cell_type": "markdown",
   "id": "67a42912",
   "metadata": {},
   "source": [
    "# II. 데이터 전처리\n",
    "## 2. CustomDataset\n",
    "CustomDataset을 만들어 전체 dataset을 구성"
   ]
  },
  {
   "cell_type": "code",
   "execution_count": 14,
   "id": "8e5be548",
   "metadata": {},
   "outputs": [],
   "source": [
    "import torchvision.datasets as datasets  # 이미지 데이터셋 집합체\n",
    "import torchvision.transforms as transforms  # 이미지 변환 툴 - 텐서 변환, 이미지 정규화...\n",
    "\n",
    "from torch.utils.data import DataLoader  # 학습 및 배치로 모델에 넣어주기 위한 툴\n",
    "from torch.utils.data import DataLoader, Dataset\n",
    "\n",
    "import cv2   # 이미지 출력하고, 저장하고, 새 윈도우에 보여주고 등등\n",
    "\n",
    "class CustomDataset(Dataset):\n",
    "    #필요한 변수 선언\n",
    "    def __init__(self,img_path_list,label_list,train_mode = True, transforms = None):\n",
    "        self.transforms = transforms\n",
    "        self.train_mode = train_mode\n",
    "        self.img_path_list = img_path_list\n",
    "        self.label_list = label_list\n",
    "    \n",
    "    # index번째 data를 return\n",
    "    def __getitem__(self,index):\n",
    "        img_path = self.img_path_list[index]  # 이미지 파일 경로\n",
    "        print(img_path)\n",
    "        \n",
    "        # Get image data\n",
    "        image = cv2.imread(img_path)  # 이미지 파일\n",
    "        if self.transforms is not None:   # transfrom 형태가 주어지면 transfrom하여 저장\n",
    "            image = self.transforms(image)\n",
    "            \n",
    "        if self.train_mode:\n",
    "            label = self.label_list[index]\n",
    "            return image, label\n",
    "        else:\n",
    "            return image\n",
    "        \n",
    "    def __len__(self):  # 길이 출력\n",
    "        return len(self.img_path_list)\n",
    "            "
   ]
  },
  {
   "cell_type": "code",
   "execution_count": 15,
   "id": "f0118ed3",
   "metadata": {},
   "outputs": [],
   "source": [
    "# 임시 데이터셋 만들어 정상 작동하는지 확인\n",
    "tempdataset = CustomDataset(all_img_path, all_label,train_mode = False)"
   ]
  },
  {
   "cell_type": "code",
   "execution_count": 16,
   "id": "5ad03f82",
   "metadata": {},
   "outputs": [],
   "source": [
    "import matplotlib.pyplot as plt\n",
    "\n",
    "#plt.imshow(tempdataset.__getitem__(0))"
   ]
  },
  {
   "cell_type": "markdown",
   "id": "28ed4df6",
   "metadata": {},
   "source": [
    "# Kernal Died ?? Prolly GPU 사용 못해서 메모리 사용량 과다로 죽은듯"
   ]
  },
  {
   "cell_type": "markdown",
   "id": "e369a788",
   "metadata": {},
   "source": [
    "## 3. Train / Validation Split\n",
    "\n",
    "학습시킬 데이터셋과 검증할 데이터셋 분리!"
   ]
  },
  {
   "cell_type": "code",
   "execution_count": 17,
   "id": "0379b35b",
   "metadata": {},
   "outputs": [],
   "source": [
    "# Train : Validation = 0.75: 0.25 Split\n",
    "\n",
    "train_len = int(len(all_img_path)*0.75)\n",
    "Vali_len = int(len(all_img_path)*0.25)\n",
    "\n",
    "train_img_path = all_img_path[:train_len]\n",
    "train_label = all_label[:train_len]\n",
    "\n",
    "vali_img_path = all_img_path[train_len:]\n",
    "vali_label = all_label[train_len:]"
   ]
  },
  {
   "cell_type": "code",
   "execution_count": 18,
   "id": "e9d0e823",
   "metadata": {},
   "outputs": [
    {
     "name": "stdout",
     "output_type": "stream",
     "text": [
      "train set 길이: 542\n",
      "validation set 길이: 180\n"
     ]
    }
   ],
   "source": [
    "print(\"train set 길이:\", train_len)\n",
    "print(\"validation set 길이:\", Vali_len)"
   ]
  },
  {
   "cell_type": "markdown",
   "id": "79f59075",
   "metadata": {},
   "source": [
    "## 4. Transfrom\n",
    "\n",
    "나뉜 데이터셋에서 이미지를 분석하기 위해 이미지 변형(transform) 적용"
   ]
  },
  {
   "cell_type": "code",
   "execution_count": 19,
   "id": "2ecb8c7e",
   "metadata": {},
   "outputs": [],
   "source": [
    "train_transform = transforms.Compose([\n",
    "    transforms.ToPILImage(),  # Numpy 배열에서 PIL 이미지로 변형\n",
    "    transforms.Resize([CFG['IMG_SIZE'],CFG['IMG_SIZE']]), # 이미지 사이즈 변형\n",
    "    transforms.ToTensor(), #이미지 데이터를 tensor\n",
    "    transforms.Normalize(mean= (0.5,0.5,0.5),std = (0.5,0.5,0.5)) # 이미지 정규화\n",
    "])\n",
    "\n",
    "test_transform = transforms.Compose([\n",
    "    transforms.ToPILImage(),\n",
    "    transforms.Resize([CFG['IMG_SIZE'], CFG['IMG_SIZE']]),\\\n",
    "    transforms.ToTensor(),\n",
    "    transforms.Normalize(mean =(0.5,0.5,0.5),std = (0.5,0.5,0.5))\n",
    "])"
   ]
  },
  {
   "cell_type": "markdown",
   "id": "25f3bcda",
   "metadata": {},
   "source": [
    "## 5. Dataloader\n",
    "- `Dataloader` Class 생성: batch 기반 딥러닝모델 학습을 위해 mini batch를 만들어주는 역할\n",
    "\n",
    "- dataset의 전체 데이터가 batch size로 나뉨\n",
    "\n",
    "- 만들었던 dataset을 input으로 넣어주면 여러 옵션(데이터 묶기, 섞기, 알아서 병렬처리)를 통해 batch 생성"
   ]
  },
  {
   "cell_type": "code",
   "execution_count": 20,
   "id": "429d00c7",
   "metadata": {},
   "outputs": [],
   "source": [
    "# Get Dataloader\n",
    "\n",
    "# CustomDataset class를 통하여 train dataset 생성\n",
    "train_dataset = CustomDataset(train_img_path, \n",
    "                              train_label, \n",
    "                              train_mode = True, \n",
    "                              transforms = train_transform)\n",
    "# 만든 train dataset를 DataLoader에 넣어 batch 만들기\n",
    "train_loader = DataLoader(train_dataset,\n",
    "                          batch_size = CFG['BATCH_SIZE'],\n",
    "                          shuffle=True, \n",
    "                          num_workers =0)\n",
    "\n",
    "\n",
    "# Validation 에서도 적용\n",
    "vali_dataset = CustomDataset(vali_img_path, \n",
    "                             vali_label, \n",
    "                             train_mode = True, \n",
    "                             transforms = test_transform)\n",
    "vali_loader = DataLoader(vali_dataset,\n",
    "                         batch_size = CFG['BATCH_SIZE'],\n",
    "                         shuffle=True, \n",
    "                         num_workers =0)"
   ]
  },
  {
   "cell_type": "code",
   "execution_count": 21,
   "id": "00ec68ef",
   "metadata": {},
   "outputs": [
    {
     "name": "stdout",
     "output_type": "stream",
     "text": [
      "total train imgs:  542 / total train batches(iterations) : 46\n",
      "total valid imgs:  180 / total valid batches(iterations) : 16\n"
     ]
    }
   ],
   "source": [
    "train_batches = len(train_loader)\n",
    "vali_batches = len(vali_loader)\n",
    "\n",
    "print('total train imgs: ',train_len,'/ total train batches(iterations) :',train_batches)\n",
    "print('total valid imgs: ',Vali_len,'/ total valid batches(iterations) :',vali_batches)"
   ]
  },
  {
   "cell_type": "markdown",
   "id": "ac01a753",
   "metadata": {},
   "source": [
    "**train 데이터의 경우, 542 장의 이미지를, 12개짜리 배치로 나누어 1번의 epoch를 돌기 위해 46개의 batch를 반복 학습해야한다.**\n",
    "\n",
    "- 배치 사이즈 : 12 \n",
    "- train - 46 묶음 / validation - 16 묶음"
   ]
  },
  {
   "cell_type": "markdown",
   "id": "32b0360a",
   "metadata": {},
   "source": [
    "# III. 모델링\n",
    "## 1. 모델 구조 정의\n",
    "CNN모델을 이해하기 위한 기본 개념"
   ]
  },
  {
   "cell_type": "markdown",
   "id": "d2348180",
   "metadata": {},
   "source": [
    "### - Neural Network (신경망)\n",
    "신경망은 다른 말로 인공 신경망이라고도 불린다.\n",
    "\n",
    "신경망이란 뇌 속 뉴런의 망형 구조를 닮은 다층형 구조의 컴퓨팅 모델이다.\n",
    "여기에서 서로 연결된 처리 소자, 일명 '뉴런'이라는 것이 있으며 생물학적 뉴런을 수학적으로 모델린한 것인데, 이들이 서로 협력하여 출력 함수를 도출한다.\n",
    "\n",
    "신경망은 입력 및 출력 계층/차원으로 구성되며 대부분은 숨겨진 계층으로 이루어져 있다. 숨겨진 계층은 입력을 출력 계층에서 사용할 수 있는 무언가로 변환해주는 단위로 구성된다. 따라서, 인공신경망 뉴런은 여러 입력값을 받아 일정 수준을 넘어서게 되면 활성화되고 출력값을 내보낸다."
   ]
  },
  {
   "cell_type": "markdown",
   "id": "7fe7a3be",
   "metadata": {},
   "source": [
    "### 1) Activation Function (활성화 함수)\n",
    "\n",
    "딥러닝 네트워크에서 노드에 입력된 값들을 비선형 함수에 통과시킨 후 다음 레이어로 전달하는 데, 이 떄 사용하는 함수를 활성화 함수(Activation Function)이라 한다. \n",
    "\n",
    "선형 함수가 아니라 비선형 함수를 사용하는 이유는 딥러닝 모델의 레이어 층을 깊게 가져갈 수 있기 때문이다.\n",
    "\n",
    "**대표적인 활성화 함수 살펴보기**"
   ]
  },
  {
   "cell_type": "markdown",
   "id": "ac58fc66",
   "metadata": {},
   "source": [
    "#### 1.1) Sigmoid 함수\n",
    "\n",
    "Sigmoid 함수는 Logistic 함수라고 불리기도 하며, x의 값에 따라 0~1의 값을 출력하는 S자형 함수이다.\n",
    "\n",
    "`Binary Classification` 마지막 레이어의 활성화 함수로 사용된다.\n",
    "\n",
    "Sigmoid 함수는 Activation function으로 많이 사용되며, 보통 0.5 미만은 0, 이상은 1을 출력한다.\n",
    "\n",
    "$$sigmoid(x)\\\\\n",
    "= 1 / (1 + exp(-x))\\\\\n",
    "= exp(x) / (exp(x) + 1)$$\n",
    "\n",
    "![시그모이드함수](https://upload.wikimedia.org/wikipedia/commons/thumb/8/88/Logistic-curve.svg/480px-Logistic-curve.svg.png)\n",
    "\n",
    "그래프를 보면, 양 극단 값의 기울기(미분 값)이 0에 가까워져, 학습이 되지 않는 문제가 발생한다.\n",
    "\n",
    "이를 **Gradient Vanishing 문제**라고 하는데 이러한 문제를 해결하기 위해 다양한 활성화함수들이 고안되었다."
   ]
  },
  {
   "cell_type": "markdown",
   "id": "1f1dd978",
   "metadata": {},
   "source": [
    "### 2) Perceptron (퍼셉트론)\n",
    "\n",
    "퍼셉트론이란 신경망의 기원이 되는 개념으로, Frank Rosenblatt가 1957년에 고안한 알고리즘이다. \n",
    "\n",
    "이는 여러 신호를 입력받아 일정한 임계값을 넘는지를 확인하여, 0(흐르지 않는다, 임계값을 넘지 않았다) 또는 1(흐른다, 임계값을 넘었다)라는 출력값을 앞으로 전달한다.\n",
    "\n",
    "**(뉴런의 all-or-none 늒김)**\n",
    "\n",
    "각 입력 신호 X는 각 가중치 w와 곱해진다. 가중치가 클수록 그 신호가 중요하다는 뜻이다.\n",
    "\n",
    "그러나, 퍼셉트론은 단순한 선형 분류기로, AND나 OR과 같은 분류는 가능하나, XOR 분류는 불가능하다.\n",
    "\n",
    "![퍼셉트론 러닝 알고리즘](https://image.slidesharecdn.com/machine-learning-120930145310-phpapp01/95/machine-learning-with-applications-in-categorization-popularity-and-sequence-labeling-75-638.jpg?cb=1354541953)\n",
    "\n",
    "\n",
    "**편향(bias) = $theta$ (임계치)** \n",
    "\n",
    ": 노드를 얼마나 쉽게 활성화(1로 출력; activation) 되느냐를 조정하는 매개변수\n",
    "* theta (임계치)가 높아질수록, 엄격한 모델이 되며, underfitting의 문제 발생 가능\n",
    "* theat (임계치)가 낮아질수록, 느슨한 모델이 되며, overfitting, 과도한 noise 포함 등의 문제 발생 \n"
   ]
  },
  {
   "cell_type": "code",
   "execution_count": null,
   "id": "deaf0f05",
   "metadata": {},
   "outputs": [],
   "source": []
  }
 ],
 "metadata": {
  "kernelspec": {
   "display_name": "Python 3 (ipykernel)",
   "language": "python",
   "name": "python3"
  },
  "language_info": {
   "codemirror_mode": {
    "name": "ipython",
    "version": 3
   },
   "file_extension": ".py",
   "mimetype": "text/x-python",
   "name": "python",
   "nbconvert_exporter": "python",
   "pygments_lexer": "ipython3",
   "version": "3.9.12"
  }
 },
 "nbformat": 4,
 "nbformat_minor": 5
}
